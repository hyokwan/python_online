{
 "cells": [
  {
   "cell_type": "markdown",
   "metadata": {},
   "source": [
    "### 라이브러리 선언"
   ]
  },
  {
   "cell_type": "code",
   "execution_count": 60,
   "metadata": {},
   "outputs": [],
   "source": [
    "# 데이터 조작 및 숫자연산\n",
    "import pandas as pd\n",
    "import numpy as np\n",
    "# 시각화 라이브러리\n",
    "import matplotlib.pyplot as plt\n",
    "import seaborn as sns"
   ]
  },
  {
   "cell_type": "code",
   "execution_count": 61,
   "metadata": {},
   "outputs": [],
   "source": [
    "# 분석모델\n",
    "from sklearn.tree import DecisionTreeRegressor"
   ]
  },
  {
   "cell_type": "code",
   "execution_count": 62,
   "metadata": {},
   "outputs": [],
   "source": [
    "# 분석평가 지표\n",
    "from sklearn.metrics import mean_squared_error\n",
    "from sklearn.metrics import mean_absolute_error"
   ]
  },
  {
   "cell_type": "markdown",
   "metadata": {
    "tags": []
   },
   "source": [
    "### 데이터 불러오기"
   ]
  },
  {
   "cell_type": "code",
   "execution_count": 63,
   "metadata": {},
   "outputs": [],
   "source": [
    "selloutData = pd.read_csv(\"../dataset/feature_regression_example.csv\")"
   ]
  },
  {
   "cell_type": "markdown",
   "metadata": {},
   "source": [
    "### EDA (Exploratory Data Analysis)"
   ]
  },
  {
   "cell_type": "code",
   "execution_count": 64,
   "metadata": {},
   "outputs": [
    {
     "name": "stdout",
     "output_type": "stream",
     "text": [
      "<class 'pandas.core.frame.DataFrame'>\n",
      "RangeIndex: 105 entries, 0 to 104\n",
      "Data columns (total 12 columns):\n",
      " #   Column        Non-Null Count  Dtype  \n",
      "---  ------        --------------  -----  \n",
      " 0   REGIONID      105 non-null    object \n",
      " 1   PRODUCTGROUP  105 non-null    object \n",
      " 2   PRODUCT       105 non-null    object \n",
      " 3   ITEM          105 non-null    object \n",
      " 4   YEARWEEK      105 non-null    int64  \n",
      " 5   YEAR          105 non-null    int64  \n",
      " 6   WEEK          105 non-null    int64  \n",
      " 7   QTY           105 non-null    int64  \n",
      " 8   HOLIDAY       105 non-null    object \n",
      " 9   HCLUS         105 non-null    int64  \n",
      " 10  PROMOTION     105 non-null    object \n",
      " 11  PRO_PERCENT   105 non-null    float64\n",
      "dtypes: float64(1), int64(5), object(6)\n",
      "memory usage: 10.0+ KB\n"
     ]
    }
   ],
   "source": [
    "selloutData.info()"
   ]
  },
  {
   "cell_type": "code",
   "execution_count": 65,
   "metadata": {},
   "outputs": [
    {
     "data": {
      "text/plain": [
       "(105, 12)"
      ]
     },
     "execution_count": 65,
     "metadata": {},
     "output_type": "execute_result"
    }
   ],
   "source": [
    "selloutData.shape"
   ]
  },
  {
   "cell_type": "code",
   "execution_count": 66,
   "metadata": {},
   "outputs": [
    {
     "data": {
      "text/html": [
       "<div>\n",
       "<style scoped>\n",
       "    .dataframe tbody tr th:only-of-type {\n",
       "        vertical-align: middle;\n",
       "    }\n",
       "\n",
       "    .dataframe tbody tr th {\n",
       "        vertical-align: top;\n",
       "    }\n",
       "\n",
       "    .dataframe thead th {\n",
       "        text-align: right;\n",
       "    }\n",
       "</style>\n",
       "<table border=\"1\" class=\"dataframe\">\n",
       "  <thead>\n",
       "    <tr style=\"text-align: right;\">\n",
       "      <th></th>\n",
       "      <th>YEARWEEK</th>\n",
       "      <th>YEAR</th>\n",
       "      <th>WEEK</th>\n",
       "      <th>QTY</th>\n",
       "      <th>HCLUS</th>\n",
       "      <th>PRO_PERCENT</th>\n",
       "    </tr>\n",
       "  </thead>\n",
       "  <tbody>\n",
       "    <tr>\n",
       "      <th>count</th>\n",
       "      <td>105.000000</td>\n",
       "      <td>105.000000</td>\n",
       "      <td>105.000000</td>\n",
       "      <td>105.000000</td>\n",
       "      <td>105.000000</td>\n",
       "      <td>105.000000</td>\n",
       "    </tr>\n",
       "    <tr>\n",
       "      <th>mean</th>\n",
       "      <td>201576.276190</td>\n",
       "      <td>2015.495238</td>\n",
       "      <td>26.752381</td>\n",
       "      <td>1210.238095</td>\n",
       "      <td>2.742857</td>\n",
       "      <td>0.205780</td>\n",
       "    </tr>\n",
       "    <tr>\n",
       "      <th>std</th>\n",
       "      <td>52.254278</td>\n",
       "      <td>0.502375</td>\n",
       "      <td>15.229514</td>\n",
       "      <td>820.097819</td>\n",
       "      <td>1.587382</td>\n",
       "      <td>0.128636</td>\n",
       "    </tr>\n",
       "    <tr>\n",
       "      <th>min</th>\n",
       "      <td>201501.000000</td>\n",
       "      <td>2015.000000</td>\n",
       "      <td>1.000000</td>\n",
       "      <td>15.000000</td>\n",
       "      <td>0.000000</td>\n",
       "      <td>0.000000</td>\n",
       "    </tr>\n",
       "    <tr>\n",
       "      <th>25%</th>\n",
       "      <td>201527.000000</td>\n",
       "      <td>2015.000000</td>\n",
       "      <td>14.000000</td>\n",
       "      <td>542.000000</td>\n",
       "      <td>1.000000</td>\n",
       "      <td>0.208155</td>\n",
       "    </tr>\n",
       "    <tr>\n",
       "      <th>50%</th>\n",
       "      <td>201553.000000</td>\n",
       "      <td>2015.000000</td>\n",
       "      <td>27.000000</td>\n",
       "      <td>1139.000000</td>\n",
       "      <td>4.000000</td>\n",
       "      <td>0.209442</td>\n",
       "    </tr>\n",
       "    <tr>\n",
       "      <th>75%</th>\n",
       "      <td>201626.000000</td>\n",
       "      <td>2016.000000</td>\n",
       "      <td>40.000000</td>\n",
       "      <td>1753.000000</td>\n",
       "      <td>4.000000</td>\n",
       "      <td>0.280258</td>\n",
       "    </tr>\n",
       "    <tr>\n",
       "      <th>max</th>\n",
       "      <td>201652.000000</td>\n",
       "      <td>2016.000000</td>\n",
       "      <td>53.000000</td>\n",
       "      <td>4035.000000</td>\n",
       "      <td>4.000000</td>\n",
       "      <td>0.421888</td>\n",
       "    </tr>\n",
       "  </tbody>\n",
       "</table>\n",
       "</div>"
      ],
      "text/plain": [
       "            YEARWEEK         YEAR        WEEK          QTY       HCLUS  \\\n",
       "count     105.000000   105.000000  105.000000   105.000000  105.000000   \n",
       "mean   201576.276190  2015.495238   26.752381  1210.238095    2.742857   \n",
       "std        52.254278     0.502375   15.229514   820.097819    1.587382   \n",
       "min    201501.000000  2015.000000    1.000000    15.000000    0.000000   \n",
       "25%    201527.000000  2015.000000   14.000000   542.000000    1.000000   \n",
       "50%    201553.000000  2015.000000   27.000000  1139.000000    4.000000   \n",
       "75%    201626.000000  2016.000000   40.000000  1753.000000    4.000000   \n",
       "max    201652.000000  2016.000000   53.000000  4035.000000    4.000000   \n",
       "\n",
       "       PRO_PERCENT  \n",
       "count   105.000000  \n",
       "mean      0.205780  \n",
       "std       0.128636  \n",
       "min       0.000000  \n",
       "25%       0.208155  \n",
       "50%       0.209442  \n",
       "75%       0.280258  \n",
       "max       0.421888  "
      ]
     },
     "execution_count": 66,
     "metadata": {},
     "output_type": "execute_result"
    }
   ],
   "source": [
    "# 데이터 통계값 확인\n",
    "selloutData.describe()"
   ]
  },
  {
   "cell_type": "code",
   "execution_count": 67,
   "metadata": {},
   "outputs": [
    {
     "name": "stderr",
     "output_type": "stream",
     "text": [
      "C:\\Users\\kopo\\anaconda3\\lib\\site-packages\\seaborn\\distributions.py:2619: FutureWarning: `distplot` is a deprecated function and will be removed in a future version. Please adapt your code to use either `displot` (a figure-level function with similar flexibility) or `histplot` (an axes-level function for histograms).\n",
      "  warnings.warn(msg, FutureWarning)\n"
     ]
    },
    {
     "data": {
      "text/plain": [
       "<AxesSubplot:xlabel='QTY', ylabel='Density'>"
      ]
     },
     "execution_count": 67,
     "metadata": {},
     "output_type": "execute_result"
    },
    {
     "data": {
      "image/png": "[encoded data removed]",
      "text/plain": [
       "<Figure size 432x288 with 1 Axes>"
      ]
     },
     "metadata": {
      "needs_background": "light"
     },
     "output_type": "display_data"
    }
   ],
   "source": [
    "sns.distplot(selloutData.QTY)"
   ]
  },
  {
   "cell_type": "markdown",
   "metadata": {},
   "source": [
    "### 1. 타입 통합/특성 숫자컬럼 추가"
   ]
  },
  {
   "cell_type": "code",
   "execution_count": 68,
   "metadata": {},
   "outputs": [
    {
     "data": {
      "text/plain": [
       "REGIONID         object\n",
       "PRODUCTGROUP     object\n",
       "PRODUCT          object\n",
       "ITEM             object\n",
       "YEARWEEK          int64\n",
       "YEAR              int64\n",
       "WEEK              int64\n",
       "QTY               int64\n",
       "HOLIDAY          object\n",
       "HCLUS             int64\n",
       "PROMOTION        object\n",
       "PRO_PERCENT     float64\n",
       "dtype: object"
      ]
     },
     "execution_count": 68,
     "metadata": {},
     "output_type": "execute_result"
    }
   ],
   "source": [
    "selloutData.dtypes"
   ]
  },
  {
   "cell_type": "code",
   "execution_count": 69,
   "metadata": {},
   "outputs": [
    {
     "data": {
      "text/plain": [
       "0    Y\n",
       "9    N\n",
       "Name: PROMOTION, dtype: object"
      ]
     },
     "execution_count": 69,
     "metadata": {},
     "output_type": "execute_result"
    }
   ],
   "source": [
    "selloutData.PROMOTION.drop_duplicates()"
   ]
  },
  {
   "cell_type": "code",
   "execution_count": 70,
   "metadata": {},
   "outputs": [],
   "source": [
    "ynMap = {\"Y\":1, \"N\":0}"
   ]
  },
  {
   "cell_type": "code",
   "execution_count": 71,
   "metadata": {},
   "outputs": [
    {
     "data": {
      "text/html": [
       "<div>\n",
       "<style scoped>\n",
       "    .dataframe tbody tr th:only-of-type {\n",
       "        vertical-align: middle;\n",
       "    }\n",
       "\n",
       "    .dataframe tbody tr th {\n",
       "        vertical-align: top;\n",
       "    }\n",
       "\n",
       "    .dataframe thead th {\n",
       "        text-align: right;\n",
       "    }\n",
       "</style>\n",
       "<table border=\"1\" class=\"dataframe\">\n",
       "  <thead>\n",
       "    <tr style=\"text-align: right;\">\n",
       "      <th></th>\n",
       "      <th>REGIONID</th>\n",
       "      <th>PRODUCTGROUP</th>\n",
       "      <th>PRODUCT</th>\n",
       "      <th>ITEM</th>\n",
       "      <th>YEARWEEK</th>\n",
       "      <th>YEAR</th>\n",
       "      <th>WEEK</th>\n",
       "      <th>QTY</th>\n",
       "      <th>HOLIDAY</th>\n",
       "      <th>HCLUS</th>\n",
       "      <th>PROMOTION</th>\n",
       "      <th>PRO_PERCENT</th>\n",
       "      <th>PROMOTION_MAP</th>\n",
       "      <th>HOLIDAY_MAP</th>\n",
       "    </tr>\n",
       "  </thead>\n",
       "  <tbody>\n",
       "    <tr>\n",
       "      <th>0</th>\n",
       "      <td>SEOUL_BANK_001</td>\n",
       "      <td>PG02</td>\n",
       "      <td>PRODUCT0010</td>\n",
       "      <td>ITEM0115</td>\n",
       "      <td>201501</td>\n",
       "      <td>2015</td>\n",
       "      <td>1</td>\n",
       "      <td>1225</td>\n",
       "      <td>Y</td>\n",
       "      <td>1</td>\n",
       "      <td>Y</td>\n",
       "      <td>0.209442</td>\n",
       "      <td>1</td>\n",
       "      <td>1</td>\n",
       "    </tr>\n",
       "    <tr>\n",
       "      <th>1</th>\n",
       "      <td>SEOUL_BANK_001</td>\n",
       "      <td>PG02</td>\n",
       "      <td>PRODUCT0010</td>\n",
       "      <td>ITEM0115</td>\n",
       "      <td>201502</td>\n",
       "      <td>2015</td>\n",
       "      <td>2</td>\n",
       "      <td>968</td>\n",
       "      <td>N</td>\n",
       "      <td>4</td>\n",
       "      <td>Y</td>\n",
       "      <td>0.209442</td>\n",
       "      <td>1</td>\n",
       "      <td>0</td>\n",
       "    </tr>\n",
       "  </tbody>\n",
       "</table>\n",
       "</div>"
      ],
      "text/plain": [
       "         REGIONID PRODUCTGROUP      PRODUCT      ITEM  YEARWEEK  YEAR  WEEK  \\\n",
       "0  SEOUL_BANK_001         PG02  PRODUCT0010  ITEM0115    201501  2015     1   \n",
       "1  SEOUL_BANK_001         PG02  PRODUCT0010  ITEM0115    201502  2015     2   \n",
       "\n",
       "    QTY HOLIDAY  HCLUS PROMOTION  PRO_PERCENT  PROMOTION_MAP  HOLIDAY_MAP  \n",
       "0  1225       Y      1         Y     0.209442              1            1  \n",
       "1   968       N      4         Y     0.209442              1            0  "
      ]
     },
     "execution_count": 71,
     "metadata": {},
     "output_type": "execute_result"
    }
   ],
   "source": [
    "selloutData[\"PROMOTION_MAP\"] = selloutData.PROMOTION.map(ynMap)\n",
    "selloutData[\"HOLIDAY_MAP\"] = selloutData.HOLIDAY.map(ynMap)\n",
    "selloutData.head(2)"
   ]
  },
  {
   "cell_type": "markdown",
   "metadata": {},
   "source": [
    "### 2. 특성 선정 / 데이터 분리"
   ]
  },
  {
   "cell_type": "markdown",
   "metadata": {},
   "source": [
    "### 2-1. 특성 선정"
   ]
  },
  {
   "cell_type": "code",
   "execution_count": 72,
   "metadata": {},
   "outputs": [],
   "source": [
    "corrStd = 0.5"
   ]
  },
  {
   "cell_type": "code",
   "execution_count": 73,
   "metadata": {},
   "outputs": [],
   "source": [
    "corrDf = selloutData.corr()"
   ]
  },
  {
   "cell_type": "code",
   "execution_count": 74,
   "metadata": {},
   "outputs": [],
   "source": [
    "label=[\"QTY\"]"
   ]
  },
  {
   "cell_type": "code",
   "execution_count": 75,
   "metadata": {},
   "outputs": [],
   "source": [
    "features = \\\n",
    "    list( corrDf.loc[ (abs( corrDf.QTY ) > corrStd ) & (corrDf.QTY != 1 ) ].index )"
   ]
  },
  {
   "cell_type": "markdown",
   "metadata": {},
   "source": [
    "### 2-2. 데이터 분리"
   ]
  },
  {
   "cell_type": "code",
   "execution_count": 76,
   "metadata": {},
   "outputs": [],
   "source": [
    "sortKey = [\"ITEM\",\"YEARWEEK\"]"
   ]
  },
  {
   "cell_type": "code",
   "execution_count": 77,
   "metadata": {},
   "outputs": [
    {
     "data": {
      "text/plain": [
       "(105, 14)"
      ]
     },
     "execution_count": 77,
     "metadata": {},
     "output_type": "execute_result"
    }
   ],
   "source": [
    "sortedData = selloutData.sort_values(sortKey)\n",
    "sortedData.shape"
   ]
  },
  {
   "cell_type": "code",
   "execution_count": 78,
   "metadata": {},
   "outputs": [],
   "source": [
    "# 전체 데이터 row 의 80% 시점의 index값 정의\n",
    "stdIndex = int( sortedData.shape[0] * 0.8 )"
   ]
  },
  {
   "cell_type": "code",
   "execution_count": 79,
   "metadata": {},
   "outputs": [],
   "source": [
    "stdYearWeek = sortedData.loc[stdIndex].YEARWEEK"
   ]
  },
  {
   "cell_type": "code",
   "execution_count": 80,
   "metadata": {},
   "outputs": [],
   "source": [
    "trainingDataFeatures = sortedData.loc[ sortedData.YEARWEEK < stdYearWeek, features]\n",
    "trainingDataLabel = sortedData.loc[ sortedData.YEARWEEK < stdYearWeek, label]\n",
    "testDataFeatures = sortedData.loc[ sortedData.YEARWEEK >= stdYearWeek, features]\n",
    "testDataLabel = sortedData.loc[ sortedData.YEARWEEK >= stdYearWeek, label]"
   ]
  },
  {
   "cell_type": "code",
   "execution_count": 81,
   "metadata": {},
   "outputs": [],
   "source": [
    "testDataAll = sortedData.loc[ sortedData.YEARWEEK >= stdYearWeek]"
   ]
  },
  {
   "cell_type": "code",
   "execution_count": 82,
   "metadata": {},
   "outputs": [
    {
     "name": "stdout",
     "output_type": "stream",
     "text": [
      "(84, 4)\n",
      "(84, 1)\n",
      "(21, 4)\n",
      "(21, 1)\n"
     ]
    }
   ],
   "source": [
    "print(trainingDataFeatures.shape)\n",
    "print(trainingDataLabel.shape)\n",
    "print(testDataFeatures.shape)\n",
    "print(testDataLabel.shape)"
   ]
  },
  {
   "cell_type": "markdown",
   "metadata": {},
   "source": [
    "### 3. 모델 적용"
   ]
  },
  {
   "cell_type": "code",
   "execution_count": 83,
   "metadata": {},
   "outputs": [],
   "source": [
    "modelMethod = DecisionTreeRegressor(random_state=1)"
   ]
  },
  {
   "cell_type": "code",
   "execution_count": 118,
   "metadata": {},
   "outputs": [],
   "source": [
    "# modelMethod = DecisionTreeRegressor(random_state=1, max_depth=3)"
   ]
  },
  {
   "cell_type": "code",
   "execution_count": 84,
   "metadata": {},
   "outputs": [],
   "source": [
    "modelCoeff = modelMethod.fit(X=trainingDataFeatures, \n",
    "                             y=trainingDataLabel)"
   ]
  },
  {
   "cell_type": "code",
   "execution_count": 85,
   "metadata": {},
   "outputs": [
    {
     "data": {
      "text/plain": [
       "DecisionTreeRegressor(random_state=1)"
      ]
     },
     "execution_count": 85,
     "metadata": {},
     "output_type": "execute_result"
    }
   ],
   "source": [
    "modelCoeff"
   ]
  },
  {
   "cell_type": "code",
   "execution_count": 86,
   "metadata": {},
   "outputs": [],
   "source": [
    "from sklearn.tree import export_graphviz"
   ]
  },
  {
   "cell_type": "code",
   "execution_count": 87,
   "metadata": {},
   "outputs": [],
   "source": [
    "import graphviz"
   ]
  },
  {
   "cell_type": "code",
   "execution_count": 88,
   "metadata": {},
   "outputs": [],
   "source": [
    "dot_data = export_graphviz(decision_tree=modelCoeff,\n",
    "                           rounded=True)"
   ]
  },
  {
   "cell_type": "code",
   "execution_count": 89,
   "metadata": {},
   "outputs": [],
   "source": [
    "graph = graphviz.Source(dot_data, format=\"png\")"
   ]
  },
  {
   "cell_type": "code",
   "execution_count": 90,
   "metadata": {},
   "outputs": [
    {
     "data": {
      "image/svg+xml": [
       "<?xml version=\"1.0\" encoding=\"UTF-8\" standalone=\"no\"?>\n",
       "<!DOCTYPE svg PUBLIC \"-//W3C//DTD SVG 1.1//EN\"\n",
       " \"http://www.w3.org/Graphics/SVG/1.1/DTD/svg11.dtd\">\n",
       "<!-- Generated by graphviz version 2.47.3 (20210619.1520)\n",
       " -->\n",
       "<!-- Title: Tree Pages: 1 -->\n",
       "<svg width=\"1329pt\" height=\"685pt\"\n",
       " viewBox=\"0.00 0.00 1329.00 685.00\" xmlns=\"http://www.w3.org/2000/svg\" xmlns:xlink=\"http://www.w3.org/1999/xlink\">\n",
       "<g id=\"graph0\" class=\"graph\" transform=\"scale(1 1) rotate(0) translate(4 681)\">\n",
       "<title>Tree</title>\n",
       "<polygon fill=\"white\" stroke=\"transparent\" points=\"-4,4 -4,-681 1325,-681 1325,4 -4,4\"/>\n",
       "<!-- 0 -->\n",
       "<g id=\"node1\" class=\"node\">\n",
       "<title>0</title>\n",
       "<path fill=\"none\" stroke=\"black\" d=\"M787,-677C787,-677 673,-677 673,-677 667,-677 661,-671 661,-665 661,-665 661,-621 661,-621 661,-615 667,-609 673,-609 673,-609 787,-609 787,-609 793,-609 799,-615 799,-621 799,-621 799,-665 799,-665 799,-671 793,-677 787,-677\"/>\n",
       "<text text-anchor=\"middle\" x=\"730\" y=\"-661.8\" font-family=\"Helvetica,sans-Serif\" font-size=\"14.00\">X[1] &lt;= 0.259</text>\n",
       "<text text-anchor=\"middle\" x=\"730\" y=\"-646.8\" font-family=\"Helvetica,sans-Serif\" font-size=\"14.00\">mse = 669903.804</text>\n",
       "<text text-anchor=\"middle\" x=\"730\" y=\"-631.8\" font-family=\"Helvetica,sans-Serif\" font-size=\"14.00\">samples = 84</text>\n",
       "<text text-anchor=\"middle\" x=\"730\" y=\"-616.8\" font-family=\"Helvetica,sans-Serif\" font-size=\"14.00\">value = 1120.202</text>\n",
       "</g>\n",
       "<!-- 1 -->\n",
       "<g id=\"node2\" class=\"node\">\n",
       "<title>1</title>\n",
       "<path fill=\"none\" stroke=\"black\" d=\"M631,-573C631,-573 517,-573 517,-573 511,-573 505,-567 505,-561 505,-561 505,-517 505,-517 505,-511 511,-505 517,-505 517,-505 631,-505 631,-505 637,-505 643,-511 643,-517 643,-517 643,-561 643,-561 643,-567 637,-573 631,-573\"/>\n",
       "<text text-anchor=\"middle\" x=\"574\" y=\"-557.8\" font-family=\"Helvetica,sans-Serif\" font-size=\"14.00\">X[2] &lt;= 0.5</text>\n",
       "<text text-anchor=\"middle\" x=\"574\" y=\"-542.8\" font-family=\"Helvetica,sans-Serif\" font-size=\"14.00\">mse = 290887.662</text>\n",
       "<text text-anchor=\"middle\" x=\"574\" y=\"-527.8\" font-family=\"Helvetica,sans-Serif\" font-size=\"14.00\">samples = 64</text>\n",
       "<text text-anchor=\"middle\" x=\"574\" y=\"-512.8\" font-family=\"Helvetica,sans-Serif\" font-size=\"14.00\">value = 826.203</text>\n",
       "</g>\n",
       "<!-- 0&#45;&gt;1 -->\n",
       "<g id=\"edge1\" class=\"edge\">\n",
       "<title>0&#45;&gt;1</title>\n",
       "<path fill=\"none\" stroke=\"black\" d=\"M679.35,-608.88C664.7,-599.3 648.58,-588.76 633.44,-578.86\"/>\n",
       "<polygon fill=\"black\" stroke=\"black\" points=\"634.95,-575.67 624.66,-573.12 631.12,-581.53 634.95,-575.67\"/>\n",
       "<text text-anchor=\"middle\" x=\"629.78\" y=\"-593.89\" font-family=\"Helvetica,sans-Serif\" font-size=\"14.00\">True</text>\n",
       "</g>\n",
       "<!-- 22 -->\n",
       "<g id=\"node23\" class=\"node\">\n",
       "<title>22</title>\n",
       "<path fill=\"none\" stroke=\"black\" d=\"M935,-573C935,-573 837,-573 837,-573 831,-573 825,-567 825,-561 825,-561 825,-517 825,-517 825,-511 831,-505 837,-505 837,-505 935,-505 935,-505 941,-505 947,-511 947,-517 947,-517 947,-561 947,-561 947,-567 941,-573 935,-573\"/>\n",
       "<text text-anchor=\"middle\" x=\"886\" y=\"-557.8\" font-family=\"Helvetica,sans-Serif\" font-size=\"14.00\">X[1] &lt;= 0.294</text>\n",
       "<text text-anchor=\"middle\" x=\"886\" y=\"-542.8\" font-family=\"Helvetica,sans-Serif\" font-size=\"14.00\">mse = 721061.5</text>\n",
       "<text text-anchor=\"middle\" x=\"886\" y=\"-527.8\" font-family=\"Helvetica,sans-Serif\" font-size=\"14.00\">samples = 20</text>\n",
       "<text text-anchor=\"middle\" x=\"886\" y=\"-512.8\" font-family=\"Helvetica,sans-Serif\" font-size=\"14.00\">value = 2061.0</text>\n",
       "</g>\n",
       "<!-- 0&#45;&gt;22 -->\n",
       "<g id=\"edge22\" class=\"edge\">\n",
       "<title>0&#45;&gt;22</title>\n",
       "<path fill=\"none\" stroke=\"black\" d=\"M780.65,-608.88C795.3,-599.3 811.42,-588.76 826.56,-578.86\"/>\n",
       "<polygon fill=\"black\" stroke=\"black\" points=\"828.88,-581.53 835.34,-573.12 825.05,-575.67 828.88,-581.53\"/>\n",
       "<text text-anchor=\"middle\" x=\"830.22\" y=\"-593.89\" font-family=\"Helvetica,sans-Serif\" font-size=\"14.00\">False</text>\n",
       "</g>\n",
       "<!-- 2 -->\n",
       "<g id=\"node3\" class=\"node\">\n",
       "<title>2</title>\n",
       "<path fill=\"none\" stroke=\"black\" d=\"M258,-469C258,-469 152,-469 152,-469 146,-469 140,-463 140,-457 140,-457 140,-413 140,-413 140,-407 146,-401 152,-401 152,-401 258,-401 258,-401 264,-401 270,-407 270,-413 270,-413 270,-457 270,-457 270,-463 264,-469 258,-469\"/>\n",
       "<text text-anchor=\"middle\" x=\"205\" y=\"-453.8\" font-family=\"Helvetica,sans-Serif\" font-size=\"14.00\">X[3] &lt;= 0.5</text>\n",
       "<text text-anchor=\"middle\" x=\"205\" y=\"-438.8\" font-family=\"Helvetica,sans-Serif\" font-size=\"14.00\">mse = 74598.945</text>\n",
       "<text text-anchor=\"middle\" x=\"205\" y=\"-423.8\" font-family=\"Helvetica,sans-Serif\" font-size=\"14.00\">samples = 23</text>\n",
       "<text text-anchor=\"middle\" x=\"205\" y=\"-408.8\" font-family=\"Helvetica,sans-Serif\" font-size=\"14.00\">value = 335.522</text>\n",
       "</g>\n",
       "<!-- 1&#45;&gt;2 -->\n",
       "<g id=\"edge2\" class=\"edge\">\n",
       "<title>1&#45;&gt;2</title>\n",
       "<path fill=\"none\" stroke=\"black\" d=\"M504.59,-518.81C440.55,-501.11 345.71,-474.9 279.96,-456.72\"/>\n",
       "<polygon fill=\"black\" stroke=\"black\" points=\"280.64,-453.28 270.07,-453.99 278.78,-460.03 280.64,-453.28\"/>\n",
       "</g>\n",
       "<!-- 7 -->\n",
       "<g id=\"node8\" class=\"node\">\n",
       "<title>7</title>\n",
       "<path fill=\"none\" stroke=\"black\" d=\"M631,-469C631,-469 517,-469 517,-469 511,-469 505,-463 505,-457 505,-457 505,-413 505,-413 505,-407 511,-401 517,-401 517,-401 631,-401 631,-401 637,-401 643,-407 643,-413 643,-413 643,-457 643,-457 643,-463 637,-469 631,-469\"/>\n",
       "<text text-anchor=\"middle\" x=\"574\" y=\"-453.8\" font-family=\"Helvetica,sans-Serif\" font-size=\"14.00\">X[0] &lt;= 3.0</text>\n",
       "<text text-anchor=\"middle\" x=\"574\" y=\"-438.8\" font-family=\"Helvetica,sans-Serif\" font-size=\"14.00\">mse = 201387.029</text>\n",
       "<text text-anchor=\"middle\" x=\"574\" y=\"-423.8\" font-family=\"Helvetica,sans-Serif\" font-size=\"14.00\">samples = 41</text>\n",
       "<text text-anchor=\"middle\" x=\"574\" y=\"-408.8\" font-family=\"Helvetica,sans-Serif\" font-size=\"14.00\">value = 1101.463</text>\n",
       "</g>\n",
       "<!-- 1&#45;&gt;7 -->\n",
       "<g id=\"edge7\" class=\"edge\">\n",
       "<title>1&#45;&gt;7</title>\n",
       "<path fill=\"none\" stroke=\"black\" d=\"M574,-504.88C574,-496.78 574,-487.98 574,-479.47\"/>\n",
       "<polygon fill=\"black\" stroke=\"black\" points=\"577.5,-479.3 574,-469.3 570.5,-479.3 577.5,-479.3\"/>\n",
       "</g>\n",
       "<!-- 3 -->\n",
       "<g id=\"node4\" class=\"node\">\n",
       "<title>3</title>\n",
       "<path fill=\"none\" stroke=\"black\" d=\"M118,-357.5C118,-357.5 12,-357.5 12,-357.5 6,-357.5 0,-351.5 0,-345.5 0,-345.5 0,-316.5 0,-316.5 0,-310.5 6,-304.5 12,-304.5 12,-304.5 118,-304.5 118,-304.5 124,-304.5 130,-310.5 130,-316.5 130,-316.5 130,-345.5 130,-345.5 130,-351.5 124,-357.5 118,-357.5\"/>\n",
       "<text text-anchor=\"middle\" x=\"65\" y=\"-342.3\" font-family=\"Helvetica,sans-Serif\" font-size=\"14.00\">mse = 76580.585</text>\n",
       "<text text-anchor=\"middle\" x=\"65\" y=\"-327.3\" font-family=\"Helvetica,sans-Serif\" font-size=\"14.00\">samples = 21</text>\n",
       "<text text-anchor=\"middle\" x=\"65\" y=\"-312.3\" font-family=\"Helvetica,sans-Serif\" font-size=\"14.00\">value = 350.714</text>\n",
       "</g>\n",
       "<!-- 2&#45;&gt;3 -->\n",
       "<g id=\"edge3\" class=\"edge\">\n",
       "<title>2&#45;&gt;3</title>\n",
       "<path fill=\"none\" stroke=\"black\" d=\"M159.55,-400.88C143.09,-388.9 124.57,-375.4 108.3,-363.55\"/>\n",
       "<polygon fill=\"black\" stroke=\"black\" points=\"110.17,-360.58 100.03,-357.52 106.05,-366.24 110.17,-360.58\"/>\n",
       "</g>\n",
       "<!-- 4 -->\n",
       "<g id=\"node5\" class=\"node\">\n",
       "<title>4</title>\n",
       "<path fill=\"none\" stroke=\"black\" d=\"M249.5,-365C249.5,-365 160.5,-365 160.5,-365 154.5,-365 148.5,-359 148.5,-353 148.5,-353 148.5,-309 148.5,-309 148.5,-303 154.5,-297 160.5,-297 160.5,-297 249.5,-297 249.5,-297 255.5,-297 261.5,-303 261.5,-309 261.5,-309 261.5,-353 261.5,-353 261.5,-359 255.5,-365 249.5,-365\"/>\n",
       "<text text-anchor=\"middle\" x=\"205\" y=\"-349.8\" font-family=\"Helvetica,sans-Serif\" font-size=\"14.00\">X[0] &lt;= 1.5</text>\n",
       "<text text-anchor=\"middle\" x=\"205\" y=\"-334.8\" font-family=\"Helvetica,sans-Serif\" font-size=\"14.00\">mse = 25921.0</text>\n",
       "<text text-anchor=\"middle\" x=\"205\" y=\"-319.8\" font-family=\"Helvetica,sans-Serif\" font-size=\"14.00\">samples = 2</text>\n",
       "<text text-anchor=\"middle\" x=\"205\" y=\"-304.8\" font-family=\"Helvetica,sans-Serif\" font-size=\"14.00\">value = 176.0</text>\n",
       "</g>\n",
       "<!-- 2&#45;&gt;4 -->\n",
       "<g id=\"edge4\" class=\"edge\">\n",
       "<title>2&#45;&gt;4</title>\n",
       "<path fill=\"none\" stroke=\"black\" d=\"M205,-400.88C205,-392.78 205,-383.98 205,-375.47\"/>\n",
       "<polygon fill=\"black\" stroke=\"black\" points=\"208.5,-375.3 205,-365.3 201.5,-375.3 208.5,-375.3\"/>\n",
       "</g>\n",
       "<!-- 5 -->\n",
       "<g id=\"node6\" class=\"node\">\n",
       "<title>5</title>\n",
       "<path fill=\"none\" stroke=\"black\" d=\"M127,-253.5C127,-253.5 49,-253.5 49,-253.5 43,-253.5 37,-247.5 37,-241.5 37,-241.5 37,-212.5 37,-212.5 37,-206.5 43,-200.5 49,-200.5 49,-200.5 127,-200.5 127,-200.5 133,-200.5 139,-206.5 139,-212.5 139,-212.5 139,-241.5 139,-241.5 139,-247.5 133,-253.5 127,-253.5\"/>\n",
       "<text text-anchor=\"middle\" x=\"88\" y=\"-238.3\" font-family=\"Helvetica,sans-Serif\" font-size=\"14.00\">mse = 0.0</text>\n",
       "<text text-anchor=\"middle\" x=\"88\" y=\"-223.3\" font-family=\"Helvetica,sans-Serif\" font-size=\"14.00\">samples = 1</text>\n",
       "<text text-anchor=\"middle\" x=\"88\" y=\"-208.3\" font-family=\"Helvetica,sans-Serif\" font-size=\"14.00\">value = 337.0</text>\n",
       "</g>\n",
       "<!-- 4&#45;&gt;5 -->\n",
       "<g id=\"edge5\" class=\"edge\">\n",
       "<title>4&#45;&gt;5</title>\n",
       "<path fill=\"none\" stroke=\"black\" d=\"M167.01,-296.88C153.52,-285.12 138.35,-271.89 124.94,-260.2\"/>\n",
       "<polygon fill=\"black\" stroke=\"black\" points=\"127.11,-257.45 117.27,-253.52 122.51,-262.73 127.11,-257.45\"/>\n",
       "</g>\n",
       "<!-- 6 -->\n",
       "<g id=\"node7\" class=\"node\">\n",
       "<title>6</title>\n",
       "<path fill=\"none\" stroke=\"black\" d=\"M240.5,-253.5C240.5,-253.5 169.5,-253.5 169.5,-253.5 163.5,-253.5 157.5,-247.5 157.5,-241.5 157.5,-241.5 157.5,-212.5 157.5,-212.5 157.5,-206.5 163.5,-200.5 169.5,-200.5 169.5,-200.5 240.5,-200.5 240.5,-200.5 246.5,-200.5 252.5,-206.5 252.5,-212.5 252.5,-212.5 252.5,-241.5 252.5,-241.5 252.5,-247.5 246.5,-253.5 240.5,-253.5\"/>\n",
       "<text text-anchor=\"middle\" x=\"205\" y=\"-238.3\" font-family=\"Helvetica,sans-Serif\" font-size=\"14.00\">mse = 0.0</text>\n",
       "<text text-anchor=\"middle\" x=\"205\" y=\"-223.3\" font-family=\"Helvetica,sans-Serif\" font-size=\"14.00\">samples = 1</text>\n",
       "<text text-anchor=\"middle\" x=\"205\" y=\"-208.3\" font-family=\"Helvetica,sans-Serif\" font-size=\"14.00\">value = 15.0</text>\n",
       "</g>\n",
       "<!-- 4&#45;&gt;6 -->\n",
       "<g id=\"edge6\" class=\"edge\">\n",
       "<title>4&#45;&gt;6</title>\n",
       "<path fill=\"none\" stroke=\"black\" d=\"M205,-296.88C205,-286.33 205,-274.6 205,-263.85\"/>\n",
       "<polygon fill=\"black\" stroke=\"black\" points=\"208.5,-263.52 205,-253.52 201.5,-263.52 208.5,-263.52\"/>\n",
       "</g>\n",
       "<!-- 8 -->\n",
       "<g id=\"node9\" class=\"node\">\n",
       "<title>8</title>\n",
       "<path fill=\"none\" stroke=\"black\" d=\"M553,-365C553,-365 439,-365 439,-365 433,-365 427,-359 427,-353 427,-353 427,-309 427,-309 427,-303 433,-297 439,-297 439,-297 553,-297 553,-297 559,-297 565,-303 565,-309 565,-309 565,-353 565,-353 565,-359 559,-365 553,-365\"/>\n",
       "<text text-anchor=\"middle\" x=\"496\" y=\"-349.8\" font-family=\"Helvetica,sans-Serif\" font-size=\"14.00\">X[1] &lt;= 0.224</text>\n",
       "<text text-anchor=\"middle\" x=\"496\" y=\"-334.8\" font-family=\"Helvetica,sans-Serif\" font-size=\"14.00\">mse = 165625.976</text>\n",
       "<text text-anchor=\"middle\" x=\"496\" y=\"-319.8\" font-family=\"Helvetica,sans-Serif\" font-size=\"14.00\">samples = 13</text>\n",
       "<text text-anchor=\"middle\" x=\"496\" y=\"-304.8\" font-family=\"Helvetica,sans-Serif\" font-size=\"14.00\">value = 1398.154</text>\n",
       "</g>\n",
       "<!-- 7&#45;&gt;8 -->\n",
       "<g id=\"edge8\" class=\"edge\">\n",
       "<title>7&#45;&gt;8</title>\n",
       "<path fill=\"none\" stroke=\"black\" d=\"M548.68,-400.88C542,-392.15 534.71,-382.62 527.75,-373.51\"/>\n",
       "<polygon fill=\"black\" stroke=\"black\" points=\"530.32,-371.12 521.46,-365.3 524.76,-375.37 530.32,-371.12\"/>\n",
       "</g>\n",
       "<!-- 17 -->\n",
       "<g id=\"node18\" class=\"node\">\n",
       "<title>17</title>\n",
       "<path fill=\"none\" stroke=\"black\" d=\"M709,-365C709,-365 595,-365 595,-365 589,-365 583,-359 583,-353 583,-353 583,-309 583,-309 583,-303 589,-297 595,-297 595,-297 709,-297 709,-297 715,-297 721,-303 721,-309 721,-309 721,-353 721,-353 721,-359 715,-365 709,-365\"/>\n",
       "<text text-anchor=\"middle\" x=\"652\" y=\"-349.8\" font-family=\"Helvetica,sans-Serif\" font-size=\"14.00\">X[1] &lt;= 0.209</text>\n",
       "<text text-anchor=\"middle\" x=\"652\" y=\"-334.8\" font-family=\"Helvetica,sans-Serif\" font-size=\"14.00\">mse = 158146.704</text>\n",
       "<text text-anchor=\"middle\" x=\"652\" y=\"-319.8\" font-family=\"Helvetica,sans-Serif\" font-size=\"14.00\">samples = 28</text>\n",
       "<text text-anchor=\"middle\" x=\"652\" y=\"-304.8\" font-family=\"Helvetica,sans-Serif\" font-size=\"14.00\">value = 963.714</text>\n",
       "</g>\n",
       "<!-- 7&#45;&gt;17 -->\n",
       "<g id=\"edge17\" class=\"edge\">\n",
       "<title>7&#45;&gt;17</title>\n",
       "<path fill=\"none\" stroke=\"black\" d=\"M599.32,-400.88C606,-392.15 613.29,-382.62 620.25,-373.51\"/>\n",
       "<polygon fill=\"black\" stroke=\"black\" points=\"623.24,-375.37 626.54,-365.3 617.68,-371.12 623.24,-375.37\"/>\n",
       "</g>\n",
       "<!-- 9 -->\n",
       "<g id=\"node10\" class=\"node\">\n",
       "<title>9</title>\n",
       "<path fill=\"none\" stroke=\"black\" d=\"M397,-261C397,-261 283,-261 283,-261 277,-261 271,-255 271,-249 271,-249 271,-205 271,-205 271,-199 277,-193 283,-193 283,-193 397,-193 397,-193 403,-193 409,-199 409,-205 409,-205 409,-249 409,-249 409,-255 403,-261 397,-261\"/>\n",
       "<text text-anchor=\"middle\" x=\"340\" y=\"-245.8\" font-family=\"Helvetica,sans-Serif\" font-size=\"14.00\">X[1] &lt;= 0.209</text>\n",
       "<text text-anchor=\"middle\" x=\"340\" y=\"-230.8\" font-family=\"Helvetica,sans-Serif\" font-size=\"14.00\">mse = 143235.673</text>\n",
       "<text text-anchor=\"middle\" x=\"340\" y=\"-215.8\" font-family=\"Helvetica,sans-Serif\" font-size=\"14.00\">samples = 7</text>\n",
       "<text text-anchor=\"middle\" x=\"340\" y=\"-200.8\" font-family=\"Helvetica,sans-Serif\" font-size=\"14.00\">value = 1266.429</text>\n",
       "</g>\n",
       "<!-- 8&#45;&gt;9 -->\n",
       "<g id=\"edge9\" class=\"edge\">\n",
       "<title>8&#45;&gt;9</title>\n",
       "<path fill=\"none\" stroke=\"black\" d=\"M445.35,-296.88C430.7,-287.3 414.58,-276.76 399.44,-266.86\"/>\n",
       "<polygon fill=\"black\" stroke=\"black\" points=\"400.95,-263.67 390.66,-261.12 397.12,-269.53 400.95,-263.67\"/>\n",
       "</g>\n",
       "<!-- 16 -->\n",
       "<g id=\"node17\" class=\"node\">\n",
       "<title>16</title>\n",
       "<path fill=\"none\" stroke=\"black\" d=\"M553,-253.5C553,-253.5 439,-253.5 439,-253.5 433,-253.5 427,-247.5 427,-241.5 427,-241.5 427,-212.5 427,-212.5 427,-206.5 433,-200.5 439,-200.5 439,-200.5 553,-200.5 553,-200.5 559,-200.5 565,-206.5 565,-212.5 565,-212.5 565,-241.5 565,-241.5 565,-247.5 559,-253.5 553,-253.5\"/>\n",
       "<text text-anchor=\"middle\" x=\"496\" y=\"-238.3\" font-family=\"Helvetica,sans-Serif\" font-size=\"14.00\">mse = 147887.139</text>\n",
       "<text text-anchor=\"middle\" x=\"496\" y=\"-223.3\" font-family=\"Helvetica,sans-Serif\" font-size=\"14.00\">samples = 6</text>\n",
       "<text text-anchor=\"middle\" x=\"496\" y=\"-208.3\" font-family=\"Helvetica,sans-Serif\" font-size=\"14.00\">value = 1551.833</text>\n",
       "</g>\n",
       "<!-- 8&#45;&gt;16 -->\n",
       "<g id=\"edge16\" class=\"edge\">\n",
       "<title>8&#45;&gt;16</title>\n",
       "<path fill=\"none\" stroke=\"black\" d=\"M496,-296.88C496,-286.33 496,-274.6 496,-263.85\"/>\n",
       "<polygon fill=\"black\" stroke=\"black\" points=\"499.5,-263.52 496,-253.52 492.5,-263.52 499.5,-263.52\"/>\n",
       "</g>\n",
       "<!-- 10 -->\n",
       "<g id=\"node11\" class=\"node\">\n",
       "<title>10</title>\n",
       "<path fill=\"none\" stroke=\"black\" d=\"M318,-157C318,-157 220,-157 220,-157 214,-157 208,-151 208,-145 208,-145 208,-101 208,-101 208,-95 214,-89 220,-89 220,-89 318,-89 318,-89 324,-89 330,-95 330,-101 330,-101 330,-145 330,-145 330,-151 324,-157 318,-157\"/>\n",
       "<text text-anchor=\"middle\" x=\"269\" y=\"-141.8\" font-family=\"Helvetica,sans-Serif\" font-size=\"14.00\">X[0] &lt;= 1.5</text>\n",
       "<text text-anchor=\"middle\" x=\"269\" y=\"-126.8\" font-family=\"Helvetica,sans-Serif\" font-size=\"14.00\">mse = 176400.0</text>\n",
       "<text text-anchor=\"middle\" x=\"269\" y=\"-111.8\" font-family=\"Helvetica,sans-Serif\" font-size=\"14.00\">samples = 2</text>\n",
       "<text text-anchor=\"middle\" x=\"269\" y=\"-96.8\" font-family=\"Helvetica,sans-Serif\" font-size=\"14.00\">value = 1390.0</text>\n",
       "</g>\n",
       "<!-- 9&#45;&gt;10 -->\n",
       "<g id=\"edge10\" class=\"edge\">\n",
       "<title>9&#45;&gt;10</title>\n",
       "<path fill=\"none\" stroke=\"black\" d=\"M316.95,-192.88C310.87,-184.15 304.24,-174.62 297.9,-165.51\"/>\n",
       "<polygon fill=\"black\" stroke=\"black\" points=\"300.76,-163.51 292.18,-157.3 295.02,-167.51 300.76,-163.51\"/>\n",
       "</g>\n",
       "<!-- 13 -->\n",
       "<g id=\"node14\" class=\"node\">\n",
       "<title>13</title>\n",
       "<path fill=\"none\" stroke=\"black\" d=\"M460,-157C460,-157 362,-157 362,-157 356,-157 350,-151 350,-145 350,-145 350,-101 350,-101 350,-95 356,-89 362,-89 362,-89 460,-89 460,-89 466,-89 472,-95 472,-101 472,-101 472,-145 472,-145 472,-151 466,-157 460,-157\"/>\n",
       "<text text-anchor=\"middle\" x=\"411\" y=\"-141.8\" font-family=\"Helvetica,sans-Serif\" font-size=\"14.00\">X[0] &lt;= 1.5</text>\n",
       "<text text-anchor=\"middle\" x=\"411\" y=\"-126.8\" font-family=\"Helvetica,sans-Serif\" font-size=\"14.00\">mse = 121418.8</text>\n",
       "<text text-anchor=\"middle\" x=\"411\" y=\"-111.8\" font-family=\"Helvetica,sans-Serif\" font-size=\"14.00\">samples = 5</text>\n",
       "<text text-anchor=\"middle\" x=\"411\" y=\"-96.8\" font-family=\"Helvetica,sans-Serif\" font-size=\"14.00\">value = 1217.0</text>\n",
       "</g>\n",
       "<!-- 9&#45;&gt;13 -->\n",
       "<g id=\"edge13\" class=\"edge\">\n",
       "<title>9&#45;&gt;13</title>\n",
       "<path fill=\"none\" stroke=\"black\" d=\"M363.05,-192.88C369.13,-184.15 375.76,-174.62 382.1,-165.51\"/>\n",
       "<polygon fill=\"black\" stroke=\"black\" points=\"384.98,-167.51 387.82,-157.3 379.24,-163.51 384.98,-167.51\"/>\n",
       "</g>\n",
       "<!-- 11 -->\n",
       "<g id=\"node12\" class=\"node\">\n",
       "<title>11</title>\n",
       "<path fill=\"none\" stroke=\"black\" d=\"M184,-53C184,-53 106,-53 106,-53 100,-53 94,-47 94,-41 94,-41 94,-12 94,-12 94,-6 100,0 106,0 106,0 184,0 184,0 190,0 196,-6 196,-12 196,-12 196,-41 196,-41 196,-47 190,-53 184,-53\"/>\n",
       "<text text-anchor=\"middle\" x=\"145\" y=\"-37.8\" font-family=\"Helvetica,sans-Serif\" font-size=\"14.00\">mse = 0.0</text>\n",
       "<text text-anchor=\"middle\" x=\"145\" y=\"-22.8\" font-family=\"Helvetica,sans-Serif\" font-size=\"14.00\">samples = 1</text>\n",
       "<text text-anchor=\"middle\" x=\"145\" y=\"-7.8\" font-family=\"Helvetica,sans-Serif\" font-size=\"14.00\">value = 970.0</text>\n",
       "</g>\n",
       "<!-- 10&#45;&gt;11 -->\n",
       "<g id=\"edge11\" class=\"edge\">\n",
       "<title>10&#45;&gt;11</title>\n",
       "<path fill=\"none\" stroke=\"black\" d=\"M225.63,-88.95C213.03,-79.34 199.29,-68.87 186.79,-59.34\"/>\n",
       "<polygon fill=\"black\" stroke=\"black\" points=\"188.85,-56.51 178.77,-53.24 184.6,-62.08 188.85,-56.51\"/>\n",
       "</g>\n",
       "<!-- 12 -->\n",
       "<g id=\"node13\" class=\"node\">\n",
       "<title>12</title>\n",
       "<path fill=\"none\" stroke=\"black\" d=\"M312,-53C312,-53 226,-53 226,-53 220,-53 214,-47 214,-41 214,-41 214,-12 214,-12 214,-6 220,0 226,0 226,0 312,0 312,0 318,0 324,-6 324,-12 324,-12 324,-41 324,-41 324,-47 318,-53 312,-53\"/>\n",
       "<text text-anchor=\"middle\" x=\"269\" y=\"-37.8\" font-family=\"Helvetica,sans-Serif\" font-size=\"14.00\">mse = 0.0</text>\n",
       "<text text-anchor=\"middle\" x=\"269\" y=\"-22.8\" font-family=\"Helvetica,sans-Serif\" font-size=\"14.00\">samples = 1</text>\n",
       "<text text-anchor=\"middle\" x=\"269\" y=\"-7.8\" font-family=\"Helvetica,sans-Serif\" font-size=\"14.00\">value = 1810.0</text>\n",
       "</g>\n",
       "<!-- 10&#45;&gt;12 -->\n",
       "<g id=\"edge12\" class=\"edge\">\n",
       "<title>10&#45;&gt;12</title>\n",
       "<path fill=\"none\" stroke=\"black\" d=\"M269,-88.95C269,-80.72 269,-71.85 269,-63.48\"/>\n",
       "<polygon fill=\"black\" stroke=\"black\" points=\"272.5,-63.24 269,-53.24 265.5,-63.24 272.5,-63.24\"/>\n",
       "</g>\n",
       "<!-- 14 -->\n",
       "<g id=\"node15\" class=\"node\">\n",
       "<title>14</title>\n",
       "<path fill=\"none\" stroke=\"black\" d=\"M468,-53C468,-53 354,-53 354,-53 348,-53 342,-47 342,-41 342,-41 342,-12 342,-12 342,-6 348,0 354,0 354,0 468,0 468,0 474,0 480,-6 480,-12 480,-12 480,-41 480,-41 480,-47 474,-53 468,-53\"/>\n",
       "<text text-anchor=\"middle\" x=\"411\" y=\"-37.8\" font-family=\"Helvetica,sans-Serif\" font-size=\"14.00\">mse = 112390.688</text>\n",
       "<text text-anchor=\"middle\" x=\"411\" y=\"-22.8\" font-family=\"Helvetica,sans-Serif\" font-size=\"14.00\">samples = 4</text>\n",
       "<text text-anchor=\"middle\" x=\"411\" y=\"-7.8\" font-family=\"Helvetica,sans-Serif\" font-size=\"14.00\">value = 1305.75</text>\n",
       "</g>\n",
       "<!-- 13&#45;&gt;14 -->\n",
       "<g id=\"edge14\" class=\"edge\">\n",
       "<title>13&#45;&gt;14</title>\n",
       "<path fill=\"none\" stroke=\"black\" d=\"M411,-88.95C411,-80.72 411,-71.85 411,-63.48\"/>\n",
       "<polygon fill=\"black\" stroke=\"black\" points=\"414.5,-63.24 411,-53.24 407.5,-63.24 414.5,-63.24\"/>\n",
       "</g>\n",
       "<!-- 15 -->\n",
       "<g id=\"node16\" class=\"node\">\n",
       "<title>15</title>\n",
       "<path fill=\"none\" stroke=\"black\" d=\"M588,-53C588,-53 510,-53 510,-53 504,-53 498,-47 498,-41 498,-41 498,-12 498,-12 498,-6 504,0 510,0 510,0 588,0 588,0 594,0 600,-6 600,-12 600,-12 600,-41 600,-41 600,-47 594,-53 588,-53\"/>\n",
       "<text text-anchor=\"middle\" x=\"549\" y=\"-37.8\" font-family=\"Helvetica,sans-Serif\" font-size=\"14.00\">mse = 0.0</text>\n",
       "<text text-anchor=\"middle\" x=\"549\" y=\"-22.8\" font-family=\"Helvetica,sans-Serif\" font-size=\"14.00\">samples = 1</text>\n",
       "<text text-anchor=\"middle\" x=\"549\" y=\"-7.8\" font-family=\"Helvetica,sans-Serif\" font-size=\"14.00\">value = 862.0</text>\n",
       "</g>\n",
       "<!-- 13&#45;&gt;15 -->\n",
       "<g id=\"edge15\" class=\"edge\">\n",
       "<title>13&#45;&gt;15</title>\n",
       "<path fill=\"none\" stroke=\"black\" d=\"M459.27,-88.95C473.43,-79.25 488.87,-68.68 502.89,-59.07\"/>\n",
       "<polygon fill=\"black\" stroke=\"black\" points=\"505.14,-61.77 511.42,-53.24 501.19,-56 505.14,-61.77\"/>\n",
       "</g>\n",
       "<!-- 18 -->\n",
       "<g id=\"node19\" class=\"node\">\n",
       "<title>18</title>\n",
       "<path fill=\"none\" stroke=\"black\" d=\"M709,-253.5C709,-253.5 595,-253.5 595,-253.5 589,-253.5 583,-247.5 583,-241.5 583,-241.5 583,-212.5 583,-212.5 583,-206.5 589,-200.5 595,-200.5 595,-200.5 709,-200.5 709,-200.5 715,-200.5 721,-206.5 721,-212.5 721,-212.5 721,-241.5 721,-241.5 721,-247.5 715,-253.5 709,-253.5\"/>\n",
       "<text text-anchor=\"middle\" x=\"652\" y=\"-238.3\" font-family=\"Helvetica,sans-Serif\" font-size=\"14.00\">mse = 150418.667</text>\n",
       "<text text-anchor=\"middle\" x=\"652\" y=\"-223.3\" font-family=\"Helvetica,sans-Serif\" font-size=\"14.00\">samples = 9</text>\n",
       "<text text-anchor=\"middle\" x=\"652\" y=\"-208.3\" font-family=\"Helvetica,sans-Serif\" font-size=\"14.00\">value = 1009.667</text>\n",
       "</g>\n",
       "<!-- 17&#45;&gt;18 -->\n",
       "<g id=\"edge18\" class=\"edge\">\n",
       "<title>17&#45;&gt;18</title>\n",
       "<path fill=\"none\" stroke=\"black\" d=\"M652,-296.88C652,-286.33 652,-274.6 652,-263.85\"/>\n",
       "<polygon fill=\"black\" stroke=\"black\" points=\"655.5,-263.52 652,-253.52 648.5,-263.52 655.5,-263.52\"/>\n",
       "</g>\n",
       "<!-- 19 -->\n",
       "<g id=\"node20\" class=\"node\">\n",
       "<title>19</title>\n",
       "<path fill=\"none\" stroke=\"black\" d=\"M865,-261C865,-261 751,-261 751,-261 745,-261 739,-255 739,-249 739,-249 739,-205 739,-205 739,-199 745,-193 751,-193 751,-193 865,-193 865,-193 871,-193 877,-199 877,-205 877,-205 877,-249 877,-249 877,-255 871,-261 865,-261\"/>\n",
       "<text text-anchor=\"middle\" x=\"808\" y=\"-245.8\" font-family=\"Helvetica,sans-Serif\" font-size=\"14.00\">X[1] &lt;= 0.224</text>\n",
       "<text text-anchor=\"middle\" x=\"808\" y=\"-230.8\" font-family=\"Helvetica,sans-Serif\" font-size=\"14.00\">mse = 160333.313</text>\n",
       "<text text-anchor=\"middle\" x=\"808\" y=\"-215.8\" font-family=\"Helvetica,sans-Serif\" font-size=\"14.00\">samples = 19</text>\n",
       "<text text-anchor=\"middle\" x=\"808\" y=\"-200.8\" font-family=\"Helvetica,sans-Serif\" font-size=\"14.00\">value = 941.947</text>\n",
       "</g>\n",
       "<!-- 17&#45;&gt;19 -->\n",
       "<g id=\"edge19\" class=\"edge\">\n",
       "<title>17&#45;&gt;19</title>\n",
       "<path fill=\"none\" stroke=\"black\" d=\"M702.65,-296.88C717.3,-287.3 733.42,-276.76 748.56,-266.86\"/>\n",
       "<polygon fill=\"black\" stroke=\"black\" points=\"750.88,-269.53 757.34,-261.12 747.05,-263.67 750.88,-269.53\"/>\n",
       "</g>\n",
       "<!-- 20 -->\n",
       "<g id=\"node21\" class=\"node\">\n",
       "<title>20</title>\n",
       "<path fill=\"none\" stroke=\"black\" d=\"M787,-149.5C787,-149.5 673,-149.5 673,-149.5 667,-149.5 661,-143.5 661,-137.5 661,-137.5 661,-108.5 661,-108.5 661,-102.5 667,-96.5 673,-96.5 673,-96.5 787,-96.5 787,-96.5 793,-96.5 799,-102.5 799,-108.5 799,-108.5 799,-137.5 799,-137.5 799,-143.5 793,-149.5 787,-149.5\"/>\n",
       "<text text-anchor=\"middle\" x=\"730\" y=\"-134.3\" font-family=\"Helvetica,sans-Serif\" font-size=\"14.00\">mse = 134350.583</text>\n",
       "<text text-anchor=\"middle\" x=\"730\" y=\"-119.3\" font-family=\"Helvetica,sans-Serif\" font-size=\"14.00\">samples = 12</text>\n",
       "<text text-anchor=\"middle\" x=\"730\" y=\"-104.3\" font-family=\"Helvetica,sans-Serif\" font-size=\"14.00\">value = 900.5</text>\n",
       "</g>\n",
       "<!-- 19&#45;&gt;20 -->\n",
       "<g id=\"edge20\" class=\"edge\">\n",
       "<title>19&#45;&gt;20</title>\n",
       "<path fill=\"none\" stroke=\"black\" d=\"M782.68,-192.88C774.01,-181.56 764.32,-168.88 755.63,-157.52\"/>\n",
       "<polygon fill=\"black\" stroke=\"black\" points=\"758.37,-155.34 749.52,-149.52 752.81,-159.59 758.37,-155.34\"/>\n",
       "</g>\n",
       "<!-- 21 -->\n",
       "<g id=\"node22\" class=\"node\">\n",
       "<title>21</title>\n",
       "<path fill=\"none\" stroke=\"black\" d=\"M943,-149.5C943,-149.5 829,-149.5 829,-149.5 823,-149.5 817,-143.5 817,-137.5 817,-137.5 817,-108.5 817,-108.5 817,-102.5 823,-96.5 829,-96.5 829,-96.5 943,-96.5 943,-96.5 949,-96.5 955,-102.5 955,-108.5 955,-108.5 955,-137.5 955,-137.5 955,-143.5 949,-149.5 943,-149.5\"/>\n",
       "<text text-anchor=\"middle\" x=\"886\" y=\"-134.3\" font-family=\"Helvetica,sans-Serif\" font-size=\"14.00\">mse = 196881.714</text>\n",
       "<text text-anchor=\"middle\" x=\"886\" y=\"-119.3\" font-family=\"Helvetica,sans-Serif\" font-size=\"14.00\">samples = 7</text>\n",
       "<text text-anchor=\"middle\" x=\"886\" y=\"-104.3\" font-family=\"Helvetica,sans-Serif\" font-size=\"14.00\">value = 1013.0</text>\n",
       "</g>\n",
       "<!-- 19&#45;&gt;21 -->\n",
       "<g id=\"edge21\" class=\"edge\">\n",
       "<title>19&#45;&gt;21</title>\n",
       "<path fill=\"none\" stroke=\"black\" d=\"M833.32,-192.88C841.99,-181.56 851.68,-168.88 860.37,-157.52\"/>\n",
       "<polygon fill=\"black\" stroke=\"black\" points=\"863.19,-159.59 866.48,-149.52 857.63,-155.34 863.19,-159.59\"/>\n",
       "</g>\n",
       "<!-- 23 -->\n",
       "<g id=\"node24\" class=\"node\">\n",
       "<title>23</title>\n",
       "<path fill=\"none\" stroke=\"black\" d=\"M939,-469C939,-469 833,-469 833,-469 827,-469 821,-463 821,-457 821,-457 821,-413 821,-413 821,-407 827,-401 833,-401 833,-401 939,-401 939,-401 945,-401 951,-407 951,-413 951,-413 951,-457 951,-457 951,-463 945,-469 939,-469\"/>\n",
       "<text text-anchor=\"middle\" x=\"886\" y=\"-453.8\" font-family=\"Helvetica,sans-Serif\" font-size=\"14.00\">X[3] &lt;= 0.5</text>\n",
       "<text text-anchor=\"middle\" x=\"886\" y=\"-438.8\" font-family=\"Helvetica,sans-Serif\" font-size=\"14.00\">mse = 838167.76</text>\n",
       "<text text-anchor=\"middle\" x=\"886\" y=\"-423.8\" font-family=\"Helvetica,sans-Serif\" font-size=\"14.00\">samples = 10</text>\n",
       "<text text-anchor=\"middle\" x=\"886\" y=\"-408.8\" font-family=\"Helvetica,sans-Serif\" font-size=\"14.00\">value = 2307.8</text>\n",
       "</g>\n",
       "<!-- 22&#45;&gt;23 -->\n",
       "<g id=\"edge23\" class=\"edge\">\n",
       "<title>22&#45;&gt;23</title>\n",
       "<path fill=\"none\" stroke=\"black\" d=\"M886,-504.88C886,-496.78 886,-487.98 886,-479.47\"/>\n",
       "<polygon fill=\"black\" stroke=\"black\" points=\"889.5,-479.3 886,-469.3 882.5,-479.3 889.5,-479.3\"/>\n",
       "</g>\n",
       "<!-- 26 -->\n",
       "<g id=\"node27\" class=\"node\">\n",
       "<title>26</title>\n",
       "<path fill=\"none\" stroke=\"black\" d=\"M1165,-469C1165,-469 1059,-469 1059,-469 1053,-469 1047,-463 1047,-457 1047,-457 1047,-413 1047,-413 1047,-407 1053,-401 1059,-401 1059,-401 1165,-401 1165,-401 1171,-401 1177,-407 1177,-413 1177,-413 1177,-457 1177,-457 1177,-463 1171,-469 1165,-469\"/>\n",
       "<text text-anchor=\"middle\" x=\"1112\" y=\"-453.8\" font-family=\"Helvetica,sans-Serif\" font-size=\"14.00\">X[1] &lt;= 0.333</text>\n",
       "<text text-anchor=\"middle\" x=\"1112\" y=\"-438.8\" font-family=\"Helvetica,sans-Serif\" font-size=\"14.00\">mse = 482134.76</text>\n",
       "<text text-anchor=\"middle\" x=\"1112\" y=\"-423.8\" font-family=\"Helvetica,sans-Serif\" font-size=\"14.00\">samples = 10</text>\n",
       "<text text-anchor=\"middle\" x=\"1112\" y=\"-408.8\" font-family=\"Helvetica,sans-Serif\" font-size=\"14.00\">value = 1814.2</text>\n",
       "</g>\n",
       "<!-- 22&#45;&gt;26 -->\n",
       "<g id=\"edge26\" class=\"edge\">\n",
       "<title>22&#45;&gt;26</title>\n",
       "<path fill=\"none\" stroke=\"black\" d=\"M947.16,-510.4C975,-497.83 1008.19,-482.85 1037.48,-469.63\"/>\n",
       "<polygon fill=\"black\" stroke=\"black\" points=\"1039.16,-472.71 1046.84,-465.41 1036.28,-466.33 1039.16,-472.71\"/>\n",
       "</g>\n",
       "<!-- 24 -->\n",
       "<g id=\"node25\" class=\"node\">\n",
       "<title>24</title>\n",
       "<path fill=\"none\" stroke=\"black\" d=\"M865,-357.5C865,-357.5 751,-357.5 751,-357.5 745,-357.5 739,-351.5 739,-345.5 739,-345.5 739,-316.5 739,-316.5 739,-310.5 745,-304.5 751,-304.5 751,-304.5 865,-304.5 865,-304.5 871,-304.5 877,-310.5 877,-316.5 877,-316.5 877,-345.5 877,-345.5 877,-351.5 871,-357.5 865,-357.5\"/>\n",
       "<text text-anchor=\"middle\" x=\"808\" y=\"-342.3\" font-family=\"Helvetica,sans-Serif\" font-size=\"14.00\">mse = 269134.889</text>\n",
       "<text text-anchor=\"middle\" x=\"808\" y=\"-327.3\" font-family=\"Helvetica,sans-Serif\" font-size=\"14.00\">samples = 3</text>\n",
       "<text text-anchor=\"middle\" x=\"808\" y=\"-312.3\" font-family=\"Helvetica,sans-Serif\" font-size=\"14.00\">value = 1578.333</text>\n",
       "</g>\n",
       "<!-- 23&#45;&gt;24 -->\n",
       "<g id=\"edge24\" class=\"edge\">\n",
       "<title>23&#45;&gt;24</title>\n",
       "<path fill=\"none\" stroke=\"black\" d=\"M860.68,-400.88C852.01,-389.56 842.32,-376.88 833.63,-365.52\"/>\n",
       "<polygon fill=\"black\" stroke=\"black\" points=\"836.37,-363.34 827.52,-357.52 830.81,-367.59 836.37,-363.34\"/>\n",
       "</g>\n",
       "<!-- 25 -->\n",
       "<g id=\"node26\" class=\"node\">\n",
       "<title>25</title>\n",
       "<path fill=\"none\" stroke=\"black\" d=\"M1021,-357.5C1021,-357.5 907,-357.5 907,-357.5 901,-357.5 895,-351.5 895,-345.5 895,-345.5 895,-316.5 895,-316.5 895,-310.5 901,-304.5 907,-304.5 907,-304.5 1021,-304.5 1021,-304.5 1027,-304.5 1033,-310.5 1033,-316.5 1033,-316.5 1033,-345.5 1033,-345.5 1033,-351.5 1027,-357.5 1021,-357.5\"/>\n",
       "<text text-anchor=\"middle\" x=\"964\" y=\"-342.3\" font-family=\"Helvetica,sans-Serif\" font-size=\"14.00\">mse = 756250.245</text>\n",
       "<text text-anchor=\"middle\" x=\"964\" y=\"-327.3\" font-family=\"Helvetica,sans-Serif\" font-size=\"14.00\">samples = 7</text>\n",
       "<text text-anchor=\"middle\" x=\"964\" y=\"-312.3\" font-family=\"Helvetica,sans-Serif\" font-size=\"14.00\">value = 2620.429</text>\n",
       "</g>\n",
       "<!-- 23&#45;&gt;25 -->\n",
       "<g id=\"edge25\" class=\"edge\">\n",
       "<title>23&#45;&gt;25</title>\n",
       "<path fill=\"none\" stroke=\"black\" d=\"M911.32,-400.88C919.99,-389.56 929.68,-376.88 938.37,-365.52\"/>\n",
       "<polygon fill=\"black\" stroke=\"black\" points=\"941.19,-367.59 944.48,-357.52 935.63,-363.34 941.19,-367.59\"/>\n",
       "</g>\n",
       "<!-- 27 -->\n",
       "<g id=\"node28\" class=\"node\">\n",
       "<title>27</title>\n",
       "<path fill=\"none\" stroke=\"black\" d=\"M1161,-357.5C1161,-357.5 1063,-357.5 1063,-357.5 1057,-357.5 1051,-351.5 1051,-345.5 1051,-345.5 1051,-316.5 1051,-316.5 1051,-310.5 1057,-304.5 1063,-304.5 1063,-304.5 1161,-304.5 1161,-304.5 1167,-304.5 1173,-310.5 1173,-316.5 1173,-316.5 1173,-345.5 1173,-345.5 1173,-351.5 1167,-357.5 1161,-357.5\"/>\n",
       "<text text-anchor=\"middle\" x=\"1112\" y=\"-342.3\" font-family=\"Helvetica,sans-Serif\" font-size=\"14.00\">mse = 69967.84</text>\n",
       "<text text-anchor=\"middle\" x=\"1112\" y=\"-327.3\" font-family=\"Helvetica,sans-Serif\" font-size=\"14.00\">samples = 5</text>\n",
       "<text text-anchor=\"middle\" x=\"1112\" y=\"-312.3\" font-family=\"Helvetica,sans-Serif\" font-size=\"14.00\">value = 1434.6</text>\n",
       "</g>\n",
       "<!-- 26&#45;&gt;27 -->\n",
       "<g id=\"edge27\" class=\"edge\">\n",
       "<title>26&#45;&gt;27</title>\n",
       "<path fill=\"none\" stroke=\"black\" d=\"M1112,-400.88C1112,-390.33 1112,-378.6 1112,-367.85\"/>\n",
       "<polygon fill=\"black\" stroke=\"black\" points=\"1115.5,-367.52 1112,-357.52 1108.5,-367.52 1115.5,-367.52\"/>\n",
       "</g>\n",
       "<!-- 28 -->\n",
       "<g id=\"node29\" class=\"node\">\n",
       "<title>28</title>\n",
       "<path fill=\"none\" stroke=\"black\" d=\"M1309,-357.5C1309,-357.5 1203,-357.5 1203,-357.5 1197,-357.5 1191,-351.5 1191,-345.5 1191,-345.5 1191,-316.5 1191,-316.5 1191,-310.5 1197,-304.5 1203,-304.5 1203,-304.5 1309,-304.5 1309,-304.5 1315,-304.5 1321,-310.5 1321,-316.5 1321,-316.5 1321,-345.5 1321,-345.5 1321,-351.5 1315,-357.5 1309,-357.5\"/>\n",
       "<text text-anchor=\"middle\" x=\"1256\" y=\"-342.3\" font-family=\"Helvetica,sans-Serif\" font-size=\"14.00\">mse = 606109.36</text>\n",
       "<text text-anchor=\"middle\" x=\"1256\" y=\"-327.3\" font-family=\"Helvetica,sans-Serif\" font-size=\"14.00\">samples = 5</text>\n",
       "<text text-anchor=\"middle\" x=\"1256\" y=\"-312.3\" font-family=\"Helvetica,sans-Serif\" font-size=\"14.00\">value = 2193.8</text>\n",
       "</g>\n",
       "<!-- 26&#45;&gt;28 -->\n",
       "<g id=\"edge28\" class=\"edge\">\n",
       "<title>26&#45;&gt;28</title>\n",
       "<path fill=\"none\" stroke=\"black\" d=\"M1158.75,-400.88C1175.68,-388.9 1194.73,-375.4 1211.46,-363.55\"/>\n",
       "<polygon fill=\"black\" stroke=\"black\" points=\"1213.83,-366.16 1219.97,-357.52 1209.79,-360.44 1213.83,-366.16\"/>\n",
       "</g>\n",
       "</g>\n",
       "</svg>\n"
      ],
      "text/plain": [
       "<graphviz.sources.Source at 0x235a285b1c0>"
      ]
     },
     "execution_count": 90,
     "metadata": {},
     "output_type": "execute_result"
    }
   ],
   "source": [
    "graph"
   ]
  },
  {
   "cell_type": "code",
   "execution_count": 91,
   "metadata": {},
   "outputs": [
    {
     "data": {
      "text/plain": [
       "'dt_tree.png'"
      ]
     },
     "execution_count": 91,
     "metadata": {},
     "output_type": "execute_result"
    }
   ],
   "source": [
    "graph.render(\"dt_tree\", format=\"png\")"
   ]
  },
  {
   "cell_type": "code",
   "execution_count": 92,
   "metadata": {},
   "outputs": [
    {
     "data": {
      "text/plain": [
       "'PRO_PERCENT'"
      ]
     },
     "execution_count": 92,
     "metadata": {},
     "output_type": "execute_result"
    }
   ],
   "source": [
    "features[1]"
   ]
  },
  {
   "cell_type": "code",
   "execution_count": 93,
   "metadata": {},
   "outputs": [
    {
     "data": {
      "text/plain": [
       "(84, 4)"
      ]
     },
     "execution_count": 93,
     "metadata": {},
     "output_type": "execute_result"
    }
   ],
   "source": [
    "trainingDataFeatures.shape"
   ]
  },
  {
   "cell_type": "code",
   "execution_count": 94,
   "metadata": {},
   "outputs": [],
   "source": [
    "step1 = trainingDataFeatures.loc[ trainingDataFeatures.PRO_PERCENT > 0.259]"
   ]
  },
  {
   "cell_type": "code",
   "execution_count": 95,
   "metadata": {},
   "outputs": [
    {
     "data": {
      "text/plain": [
       "(20, 4)"
      ]
     },
     "execution_count": 95,
     "metadata": {},
     "output_type": "execute_result"
    }
   ],
   "source": [
    "step1.shape"
   ]
  },
  {
   "cell_type": "code",
   "execution_count": 96,
   "metadata": {},
   "outputs": [
    {
     "data": {
      "text/plain": [
       "Int64Index([25, 26, 27, 28, 44, 45, 46, 47, 48, 72, 73, 74, 75, 77, 78, 79, 80,\n",
       "            81, 82, 83],\n",
       "           dtype='int64')"
      ]
     },
     "execution_count": 96,
     "metadata": {},
     "output_type": "execute_result"
    }
   ],
   "source": [
    "step1.index"
   ]
  },
  {
   "cell_type": "code",
   "execution_count": 97,
   "metadata": {},
   "outputs": [
    {
     "data": {
      "text/plain": [
       "2061.0"
      ]
     },
     "execution_count": 97,
     "metadata": {},
     "output_type": "execute_result"
    }
   ],
   "source": [
    "trainingDataLabel.loc[ step1.index ].QTY.mean()"
   ]
  },
  {
   "cell_type": "code",
   "execution_count": 98,
   "metadata": {},
   "outputs": [],
   "source": [
    "step2 = step1.loc[step1.PRO_PERCENT <= 0.294 ]"
   ]
  },
  {
   "cell_type": "code",
   "execution_count": 99,
   "metadata": {},
   "outputs": [
    {
     "data": {
      "text/plain": [
       "(10, 4)"
      ]
     },
     "execution_count": 99,
     "metadata": {},
     "output_type": "execute_result"
    }
   ],
   "source": [
    "step2.shape"
   ]
  },
  {
   "cell_type": "code",
   "execution_count": 100,
   "metadata": {},
   "outputs": [
    {
     "data": {
      "text/plain": [
       "Int64Index([25, 26, 27, 28, 72, 73, 74, 75, 82, 83], dtype='int64')"
      ]
     },
     "execution_count": 100,
     "metadata": {},
     "output_type": "execute_result"
    }
   ],
   "source": [
    "step2.index"
   ]
  },
  {
   "cell_type": "code",
   "execution_count": 101,
   "metadata": {},
   "outputs": [
    {
     "data": {
      "text/plain": [
       "2307.8"
      ]
     },
     "execution_count": 101,
     "metadata": {},
     "output_type": "execute_result"
    }
   ],
   "source": [
    "trainingDataLabel.loc[ step2.index ].QTY.mean()"
   ]
  },
  {
   "cell_type": "code",
   "execution_count": 102,
   "metadata": {},
   "outputs": [
    {
     "data": {
      "text/plain": [
       "'HOLIDAY_MAP'"
      ]
     },
     "execution_count": 102,
     "metadata": {},
     "output_type": "execute_result"
    }
   ],
   "source": [
    "features[3]"
   ]
  },
  {
   "cell_type": "code",
   "execution_count": 103,
   "metadata": {},
   "outputs": [],
   "source": [
    "step3 = step2.loc[step2.HOLIDAY_MAP > 0.5 ]"
   ]
  },
  {
   "cell_type": "code",
   "execution_count": 104,
   "metadata": {},
   "outputs": [
    {
     "data": {
      "text/plain": [
       "(7, 4)"
      ]
     },
     "execution_count": 104,
     "metadata": {},
     "output_type": "execute_result"
    }
   ],
   "source": [
    "step3.shape"
   ]
  },
  {
   "cell_type": "code",
   "execution_count": 105,
   "metadata": {},
   "outputs": [
    {
     "data": {
      "text/plain": [
       "Int64Index([25, 26, 27, 28, 72, 73, 74], dtype='int64')"
      ]
     },
     "execution_count": 105,
     "metadata": {},
     "output_type": "execute_result"
    }
   ],
   "source": [
    "step3.index"
   ]
  },
  {
   "cell_type": "code",
   "execution_count": 106,
   "metadata": {},
   "outputs": [
    {
     "data": {
      "text/plain": [
       "2620.4285714285716"
      ]
     },
     "execution_count": 106,
     "metadata": {},
     "output_type": "execute_result"
    }
   ],
   "source": [
    "trainingDataLabel.loc[ step3.index ].QTY.mean()"
   ]
  },
  {
   "cell_type": "code",
   "execution_count": 107,
   "metadata": {},
   "outputs": [],
   "source": [
    "### 할인율 25.9 < 할인 < 29.4\n",
    "### holiday map > 0.5"
   ]
  },
  {
   "cell_type": "markdown",
   "metadata": {
    "tags": []
   },
   "source": [
    "### 4. 예측"
   ]
  },
  {
   "cell_type": "code",
   "execution_count": 108,
   "metadata": {},
   "outputs": [],
   "source": [
    "predictValue=modelCoeff.predict(testDataFeatures)"
   ]
  },
  {
   "cell_type": "code",
   "execution_count": 109,
   "metadata": {},
   "outputs": [
    {
     "data": {
      "text/plain": [
       "array([1578.33333333,  350.71428571, 1434.6       , 1434.6       ,\n",
       "       1434.6       , 1434.6       , 1434.6       , 1578.33333333,\n",
       "       1578.33333333, 2620.42857143, 1578.33333333,  350.71428571,\n",
       "       2193.8       , 2193.8       , 2193.8       , 2193.8       ,\n",
       "       2193.8       , 2193.8       , 2193.8       , 2193.8       ,\n",
       "       2193.8       ])"
      ]
     },
     "execution_count": 109,
     "metadata": {},
     "output_type": "execute_result"
    }
   ],
   "source": [
    "predictValue"
   ]
  },
  {
   "cell_type": "markdown",
   "metadata": {},
   "source": [
    "### 5. 데이터 정리"
   ]
  },
  {
   "cell_type": "code",
   "execution_count": 110,
   "metadata": {},
   "outputs": [
    {
     "data": {
      "text/html": [
       "<div>\n",
       "<style scoped>\n",
       "    .dataframe tbody tr th:only-of-type {\n",
       "        vertical-align: middle;\n",
       "    }\n",
       "\n",
       "    .dataframe tbody tr th {\n",
       "        vertical-align: top;\n",
       "    }\n",
       "\n",
       "    .dataframe thead th {\n",
       "        text-align: right;\n",
       "    }\n",
       "</style>\n",
       "<table border=\"1\" class=\"dataframe\">\n",
       "  <thead>\n",
       "    <tr style=\"text-align: right;\">\n",
       "      <th></th>\n",
       "      <th>REGIONID</th>\n",
       "      <th>PRODUCTGROUP</th>\n",
       "      <th>PRODUCT</th>\n",
       "      <th>ITEM</th>\n",
       "      <th>YEARWEEK</th>\n",
       "      <th>YEAR</th>\n",
       "      <th>WEEK</th>\n",
       "      <th>QTY</th>\n",
       "      <th>HOLIDAY</th>\n",
       "      <th>HCLUS</th>\n",
       "      <th>PROMOTION</th>\n",
       "      <th>PRO_PERCENT</th>\n",
       "      <th>PROMOTION_MAP</th>\n",
       "      <th>HOLIDAY_MAP</th>\n",
       "    </tr>\n",
       "  </thead>\n",
       "  <tbody>\n",
       "    <tr>\n",
       "      <th>84</th>\n",
       "      <td>SEOUL_BANK_001</td>\n",
       "      <td>PG02</td>\n",
       "      <td>PRODUCT0010</td>\n",
       "      <td>ITEM0115</td>\n",
       "      <td>201632</td>\n",
       "      <td>2016</td>\n",
       "      <td>32</td>\n",
       "      <td>2100</td>\n",
       "      <td>N</td>\n",
       "      <td>4</td>\n",
       "      <td>Y</td>\n",
       "      <td>0.280258</td>\n",
       "      <td>1</td>\n",
       "      <td>0</td>\n",
       "    </tr>\n",
       "    <tr>\n",
       "      <th>85</th>\n",
       "      <td>SEOUL_BANK_001</td>\n",
       "      <td>PG02</td>\n",
       "      <td>PRODUCT0010</td>\n",
       "      <td>ITEM0115</td>\n",
       "      <td>201633</td>\n",
       "      <td>2016</td>\n",
       "      <td>33</td>\n",
       "      <td>43</td>\n",
       "      <td>N</td>\n",
       "      <td>4</td>\n",
       "      <td>N</td>\n",
       "      <td>0.000000</td>\n",
       "      <td>0</td>\n",
       "      <td>0</td>\n",
       "    </tr>\n",
       "  </tbody>\n",
       "</table>\n",
       "</div>"
      ],
      "text/plain": [
       "          REGIONID PRODUCTGROUP      PRODUCT      ITEM  YEARWEEK  YEAR  WEEK  \\\n",
       "84  SEOUL_BANK_001         PG02  PRODUCT0010  ITEM0115    201632  2016    32   \n",
       "85  SEOUL_BANK_001         PG02  PRODUCT0010  ITEM0115    201633  2016    33   \n",
       "\n",
       "     QTY HOLIDAY  HCLUS PROMOTION  PRO_PERCENT  PROMOTION_MAP  HOLIDAY_MAP  \n",
       "84  2100       N      4         Y     0.280258              1            0  \n",
       "85    43       N      4         N     0.000000              0            0  "
      ]
     },
     "execution_count": 110,
     "metadata": {},
     "output_type": "execute_result"
    }
   ],
   "source": [
    "testDataAll.head(2)"
   ]
  },
  {
   "cell_type": "code",
   "execution_count": 111,
   "metadata": {},
   "outputs": [
    {
     "name": "stderr",
     "output_type": "stream",
     "text": [
      "C:\\Users\\kopo\\AppData\\Local\\Temp/ipykernel_18260/3972717254.py:1: SettingWithCopyWarning: \n",
      "A value is trying to be set on a copy of a slice from a DataFrame.\n",
      "Try using .loc[row_indexer,col_indexer] = value instead\n",
      "\n",
      "See the caveats in the documentation: https://pandas.pydata.org/pandas-docs/stable/user_guide/indexing.html#returning-a-view-versus-a-copy\n",
      "  testDataAll[\"PREDICT_DT\"] = predictValue\n"
     ]
    }
   ],
   "source": [
    "testDataAll[\"PREDICT_DT\"] = predictValue"
   ]
  },
  {
   "cell_type": "code",
   "execution_count": 117,
   "metadata": {},
   "outputs": [
    {
     "data": {
      "text/html": [
       "<div>\n",
       "<style scoped>\n",
       "    .dataframe tbody tr th:only-of-type {\n",
       "        vertical-align: middle;\n",
       "    }\n",
       "\n",
       "    .dataframe tbody tr th {\n",
       "        vertical-align: top;\n",
       "    }\n",
       "\n",
       "    .dataframe thead th {\n",
       "        text-align: right;\n",
       "    }\n",
       "</style>\n",
       "<table border=\"1\" class=\"dataframe\">\n",
       "  <thead>\n",
       "    <tr style=\"text-align: right;\">\n",
       "      <th></th>\n",
       "      <th>REGIONID</th>\n",
       "      <th>PRODUCTGROUP</th>\n",
       "      <th>PRODUCT</th>\n",
       "      <th>ITEM</th>\n",
       "      <th>YEARWEEK</th>\n",
       "      <th>YEAR</th>\n",
       "      <th>WEEK</th>\n",
       "      <th>QTY</th>\n",
       "      <th>HOLIDAY</th>\n",
       "      <th>HCLUS</th>\n",
       "      <th>PROMOTION</th>\n",
       "      <th>PRO_PERCENT</th>\n",
       "      <th>PROMOTION_MAP</th>\n",
       "      <th>HOLIDAY_MAP</th>\n",
       "      <th>PREDICT_DT</th>\n",
       "    </tr>\n",
       "  </thead>\n",
       "  <tbody>\n",
       "    <tr>\n",
       "      <th>84</th>\n",
       "      <td>SEOUL_BANK_001</td>\n",
       "      <td>PG02</td>\n",
       "      <td>PRODUCT0010</td>\n",
       "      <td>ITEM0115</td>\n",
       "      <td>201632</td>\n",
       "      <td>2016</td>\n",
       "      <td>32</td>\n",
       "      <td>2100</td>\n",
       "      <td>N</td>\n",
       "      <td>4</td>\n",
       "      <td>Y</td>\n",
       "      <td>0.280258</td>\n",
       "      <td>1</td>\n",
       "      <td>0</td>\n",
       "      <td>1578.333333</td>\n",
       "    </tr>\n",
       "    <tr>\n",
       "      <th>85</th>\n",
       "      <td>SEOUL_BANK_001</td>\n",
       "      <td>PG02</td>\n",
       "      <td>PRODUCT0010</td>\n",
       "      <td>ITEM0115</td>\n",
       "      <td>201633</td>\n",
       "      <td>2016</td>\n",
       "      <td>33</td>\n",
       "      <td>43</td>\n",
       "      <td>N</td>\n",
       "      <td>4</td>\n",
       "      <td>N</td>\n",
       "      <td>0.000000</td>\n",
       "      <td>0</td>\n",
       "      <td>0</td>\n",
       "      <td>350.714286</td>\n",
       "    </tr>\n",
       "    <tr>\n",
       "      <th>86</th>\n",
       "      <td>SEOUL_BANK_001</td>\n",
       "      <td>PG02</td>\n",
       "      <td>PRODUCT0010</td>\n",
       "      <td>ITEM0115</td>\n",
       "      <td>201634</td>\n",
       "      <td>2016</td>\n",
       "      <td>34</td>\n",
       "      <td>1700</td>\n",
       "      <td>Y</td>\n",
       "      <td>1</td>\n",
       "      <td>Y</td>\n",
       "      <td>0.308584</td>\n",
       "      <td>1</td>\n",
       "      <td>1</td>\n",
       "      <td>1434.600000</td>\n",
       "    </tr>\n",
       "    <tr>\n",
       "      <th>87</th>\n",
       "      <td>SEOUL_BANK_001</td>\n",
       "      <td>PG02</td>\n",
       "      <td>PRODUCT0010</td>\n",
       "      <td>ITEM0115</td>\n",
       "      <td>201635</td>\n",
       "      <td>2016</td>\n",
       "      <td>35</td>\n",
       "      <td>1514</td>\n",
       "      <td>Y</td>\n",
       "      <td>1</td>\n",
       "      <td>Y</td>\n",
       "      <td>0.308584</td>\n",
       "      <td>1</td>\n",
       "      <td>1</td>\n",
       "      <td>1434.600000</td>\n",
       "    </tr>\n",
       "    <tr>\n",
       "      <th>88</th>\n",
       "      <td>SEOUL_BANK_001</td>\n",
       "      <td>PG02</td>\n",
       "      <td>PRODUCT0010</td>\n",
       "      <td>ITEM0115</td>\n",
       "      <td>201636</td>\n",
       "      <td>2016</td>\n",
       "      <td>36</td>\n",
       "      <td>1501</td>\n",
       "      <td>Y</td>\n",
       "      <td>1</td>\n",
       "      <td>Y</td>\n",
       "      <td>0.308584</td>\n",
       "      <td>1</td>\n",
       "      <td>1</td>\n",
       "      <td>1434.600000</td>\n",
       "    </tr>\n",
       "    <tr>\n",
       "      <th>89</th>\n",
       "      <td>SEOUL_BANK_001</td>\n",
       "      <td>PG02</td>\n",
       "      <td>PRODUCT0010</td>\n",
       "      <td>ITEM0115</td>\n",
       "      <td>201637</td>\n",
       "      <td>2016</td>\n",
       "      <td>37</td>\n",
       "      <td>1491</td>\n",
       "      <td>N</td>\n",
       "      <td>4</td>\n",
       "      <td>Y</td>\n",
       "      <td>0.308584</td>\n",
       "      <td>1</td>\n",
       "      <td>0</td>\n",
       "      <td>1434.600000</td>\n",
       "    </tr>\n",
       "    <tr>\n",
       "      <th>90</th>\n",
       "      <td>SEOUL_BANK_001</td>\n",
       "      <td>PG02</td>\n",
       "      <td>PRODUCT0010</td>\n",
       "      <td>ITEM0115</td>\n",
       "      <td>201638</td>\n",
       "      <td>2016</td>\n",
       "      <td>38</td>\n",
       "      <td>806</td>\n",
       "      <td>N</td>\n",
       "      <td>4</td>\n",
       "      <td>Y</td>\n",
       "      <td>0.308584</td>\n",
       "      <td>1</td>\n",
       "      <td>0</td>\n",
       "      <td>1434.600000</td>\n",
       "    </tr>\n",
       "    <tr>\n",
       "      <th>91</th>\n",
       "      <td>SEOUL_BANK_001</td>\n",
       "      <td>PG02</td>\n",
       "      <td>PRODUCT0010</td>\n",
       "      <td>ITEM0115</td>\n",
       "      <td>201639</td>\n",
       "      <td>2016</td>\n",
       "      <td>39</td>\n",
       "      <td>2111</td>\n",
       "      <td>N</td>\n",
       "      <td>4</td>\n",
       "      <td>Y</td>\n",
       "      <td>0.280258</td>\n",
       "      <td>1</td>\n",
       "      <td>0</td>\n",
       "      <td>1578.333333</td>\n",
       "    </tr>\n",
       "    <tr>\n",
       "      <th>92</th>\n",
       "      <td>SEOUL_BANK_001</td>\n",
       "      <td>PG02</td>\n",
       "      <td>PRODUCT0010</td>\n",
       "      <td>ITEM0115</td>\n",
       "      <td>201640</td>\n",
       "      <td>2016</td>\n",
       "      <td>40</td>\n",
       "      <td>2400</td>\n",
       "      <td>N</td>\n",
       "      <td>4</td>\n",
       "      <td>Y</td>\n",
       "      <td>0.280258</td>\n",
       "      <td>1</td>\n",
       "      <td>0</td>\n",
       "      <td>1578.333333</td>\n",
       "    </tr>\n",
       "    <tr>\n",
       "      <th>93</th>\n",
       "      <td>SEOUL_BANK_001</td>\n",
       "      <td>PG02</td>\n",
       "      <td>PRODUCT0010</td>\n",
       "      <td>ITEM0115</td>\n",
       "      <td>201641</td>\n",
       "      <td>2016</td>\n",
       "      <td>41</td>\n",
       "      <td>2010</td>\n",
       "      <td>Y</td>\n",
       "      <td>2</td>\n",
       "      <td>Y</td>\n",
       "      <td>0.280258</td>\n",
       "      <td>1</td>\n",
       "      <td>1</td>\n",
       "      <td>2620.428571</td>\n",
       "    </tr>\n",
       "    <tr>\n",
       "      <th>94</th>\n",
       "      <td>SEOUL_BANK_001</td>\n",
       "      <td>PG02</td>\n",
       "      <td>PRODUCT0010</td>\n",
       "      <td>ITEM0115</td>\n",
       "      <td>201642</td>\n",
       "      <td>2016</td>\n",
       "      <td>42</td>\n",
       "      <td>1900</td>\n",
       "      <td>N</td>\n",
       "      <td>4</td>\n",
       "      <td>Y</td>\n",
       "      <td>0.280258</td>\n",
       "      <td>1</td>\n",
       "      <td>0</td>\n",
       "      <td>1578.333333</td>\n",
       "    </tr>\n",
       "    <tr>\n",
       "      <th>95</th>\n",
       "      <td>SEOUL_BANK_001</td>\n",
       "      <td>PG02</td>\n",
       "      <td>PRODUCT0010</td>\n",
       "      <td>ITEM0115</td>\n",
       "      <td>201643</td>\n",
       "      <td>2016</td>\n",
       "      <td>43</td>\n",
       "      <td>141</td>\n",
       "      <td>N</td>\n",
       "      <td>4</td>\n",
       "      <td>N</td>\n",
       "      <td>0.000000</td>\n",
       "      <td>0</td>\n",
       "      <td>0</td>\n",
       "      <td>350.714286</td>\n",
       "    </tr>\n",
       "    <tr>\n",
       "      <th>96</th>\n",
       "      <td>SEOUL_BANK_001</td>\n",
       "      <td>PG02</td>\n",
       "      <td>PRODUCT0010</td>\n",
       "      <td>ITEM0115</td>\n",
       "      <td>201644</td>\n",
       "      <td>2016</td>\n",
       "      <td>44</td>\n",
       "      <td>1615</td>\n",
       "      <td>Y</td>\n",
       "      <td>0</td>\n",
       "      <td>Y</td>\n",
       "      <td>0.421888</td>\n",
       "      <td>1</td>\n",
       "      <td>1</td>\n",
       "      <td>2193.800000</td>\n",
       "    </tr>\n",
       "    <tr>\n",
       "      <th>97</th>\n",
       "      <td>SEOUL_BANK_001</td>\n",
       "      <td>PG02</td>\n",
       "      <td>PRODUCT0010</td>\n",
       "      <td>ITEM0115</td>\n",
       "      <td>201645</td>\n",
       "      <td>2016</td>\n",
       "      <td>45</td>\n",
       "      <td>1574</td>\n",
       "      <td>Y</td>\n",
       "      <td>0</td>\n",
       "      <td>Y</td>\n",
       "      <td>0.421888</td>\n",
       "      <td>1</td>\n",
       "      <td>1</td>\n",
       "      <td>2193.800000</td>\n",
       "    </tr>\n",
       "    <tr>\n",
       "      <th>98</th>\n",
       "      <td>SEOUL_BANK_001</td>\n",
       "      <td>PG02</td>\n",
       "      <td>PRODUCT0010</td>\n",
       "      <td>ITEM0115</td>\n",
       "      <td>201646</td>\n",
       "      <td>2016</td>\n",
       "      <td>46</td>\n",
       "      <td>1800</td>\n",
       "      <td>Y</td>\n",
       "      <td>0</td>\n",
       "      <td>Y</td>\n",
       "      <td>0.421888</td>\n",
       "      <td>1</td>\n",
       "      <td>1</td>\n",
       "      <td>2193.800000</td>\n",
       "    </tr>\n",
       "    <tr>\n",
       "      <th>99</th>\n",
       "      <td>SEOUL_BANK_001</td>\n",
       "      <td>PG02</td>\n",
       "      <td>PRODUCT0010</td>\n",
       "      <td>ITEM0115</td>\n",
       "      <td>201647</td>\n",
       "      <td>2016</td>\n",
       "      <td>47</td>\n",
       "      <td>2600</td>\n",
       "      <td>Y</td>\n",
       "      <td>0</td>\n",
       "      <td>Y</td>\n",
       "      <td>0.421888</td>\n",
       "      <td>1</td>\n",
       "      <td>1</td>\n",
       "      <td>2193.800000</td>\n",
       "    </tr>\n",
       "    <tr>\n",
       "      <th>100</th>\n",
       "      <td>SEOUL_BANK_001</td>\n",
       "      <td>PG02</td>\n",
       "      <td>PRODUCT0010</td>\n",
       "      <td>ITEM0115</td>\n",
       "      <td>201648</td>\n",
       "      <td>2016</td>\n",
       "      <td>48</td>\n",
       "      <td>2412</td>\n",
       "      <td>Y</td>\n",
       "      <td>0</td>\n",
       "      <td>Y</td>\n",
       "      <td>0.421888</td>\n",
       "      <td>1</td>\n",
       "      <td>1</td>\n",
       "      <td>2193.800000</td>\n",
       "    </tr>\n",
       "    <tr>\n",
       "      <th>101</th>\n",
       "      <td>SEOUL_BANK_001</td>\n",
       "      <td>PG02</td>\n",
       "      <td>PRODUCT0010</td>\n",
       "      <td>ITEM0115</td>\n",
       "      <td>201649</td>\n",
       "      <td>2016</td>\n",
       "      <td>49</td>\n",
       "      <td>1955</td>\n",
       "      <td>N</td>\n",
       "      <td>4</td>\n",
       "      <td>Y</td>\n",
       "      <td>0.421888</td>\n",
       "      <td>1</td>\n",
       "      <td>0</td>\n",
       "      <td>2193.800000</td>\n",
       "    </tr>\n",
       "    <tr>\n",
       "      <th>102</th>\n",
       "      <td>SEOUL_BANK_001</td>\n",
       "      <td>PG02</td>\n",
       "      <td>PRODUCT0010</td>\n",
       "      <td>ITEM0115</td>\n",
       "      <td>201650</td>\n",
       "      <td>2016</td>\n",
       "      <td>50</td>\n",
       "      <td>1800</td>\n",
       "      <td>N</td>\n",
       "      <td>4</td>\n",
       "      <td>Y</td>\n",
       "      <td>0.352361</td>\n",
       "      <td>1</td>\n",
       "      <td>0</td>\n",
       "      <td>2193.800000</td>\n",
       "    </tr>\n",
       "    <tr>\n",
       "      <th>103</th>\n",
       "      <td>SEOUL_BANK_001</td>\n",
       "      <td>PG02</td>\n",
       "      <td>PRODUCT0010</td>\n",
       "      <td>ITEM0115</td>\n",
       "      <td>201651</td>\n",
       "      <td>2016</td>\n",
       "      <td>51</td>\n",
       "      <td>1173</td>\n",
       "      <td>N</td>\n",
       "      <td>4</td>\n",
       "      <td>Y</td>\n",
       "      <td>0.352361</td>\n",
       "      <td>1</td>\n",
       "      <td>0</td>\n",
       "      <td>2193.800000</td>\n",
       "    </tr>\n",
       "    <tr>\n",
       "      <th>104</th>\n",
       "      <td>SEOUL_BANK_001</td>\n",
       "      <td>PG02</td>\n",
       "      <td>PRODUCT0010</td>\n",
       "      <td>ITEM0115</td>\n",
       "      <td>201652</td>\n",
       "      <td>2016</td>\n",
       "      <td>52</td>\n",
       "      <td>332</td>\n",
       "      <td>Y</td>\n",
       "      <td>1</td>\n",
       "      <td>Y</td>\n",
       "      <td>0.352361</td>\n",
       "      <td>1</td>\n",
       "      <td>1</td>\n",
       "      <td>2193.800000</td>\n",
       "    </tr>\n",
       "  </tbody>\n",
       "</table>\n",
       "</div>"
      ],
      "text/plain": [
       "           REGIONID PRODUCTGROUP      PRODUCT      ITEM  YEARWEEK  YEAR  WEEK  \\\n",
       "84   SEOUL_BANK_001         PG02  PRODUCT0010  ITEM0115    201632  2016    32   \n",
       "85   SEOUL_BANK_001         PG02  PRODUCT0010  ITEM0115    201633  2016    33   \n",
       "86   SEOUL_BANK_001         PG02  PRODUCT0010  ITEM0115    201634  2016    34   \n",
       "87   SEOUL_BANK_001         PG02  PRODUCT0010  ITEM0115    201635  2016    35   \n",
       "88   SEOUL_BANK_001         PG02  PRODUCT0010  ITEM0115    201636  2016    36   \n",
       "89   SEOUL_BANK_001         PG02  PRODUCT0010  ITEM0115    201637  2016    37   \n",
       "90   SEOUL_BANK_001         PG02  PRODUCT0010  ITEM0115    201638  2016    38   \n",
       "91   SEOUL_BANK_001         PG02  PRODUCT0010  ITEM0115    201639  2016    39   \n",
       "92   SEOUL_BANK_001         PG02  PRODUCT0010  ITEM0115    201640  2016    40   \n",
       "93   SEOUL_BANK_001         PG02  PRODUCT0010  ITEM0115    201641  2016    41   \n",
       "94   SEOUL_BANK_001         PG02  PRODUCT0010  ITEM0115    201642  2016    42   \n",
       "95   SEOUL_BANK_001         PG02  PRODUCT0010  ITEM0115    201643  2016    43   \n",
       "96   SEOUL_BANK_001         PG02  PRODUCT0010  ITEM0115    201644  2016    44   \n",
       "97   SEOUL_BANK_001         PG02  PRODUCT0010  ITEM0115    201645  2016    45   \n",
       "98   SEOUL_BANK_001         PG02  PRODUCT0010  ITEM0115    201646  2016    46   \n",
       "99   SEOUL_BANK_001         PG02  PRODUCT0010  ITEM0115    201647  2016    47   \n",
       "100  SEOUL_BANK_001         PG02  PRODUCT0010  ITEM0115    201648  2016    48   \n",
       "101  SEOUL_BANK_001         PG02  PRODUCT0010  ITEM0115    201649  2016    49   \n",
       "102  SEOUL_BANK_001         PG02  PRODUCT0010  ITEM0115    201650  2016    50   \n",
       "103  SEOUL_BANK_001         PG02  PRODUCT0010  ITEM0115    201651  2016    51   \n",
       "104  SEOUL_BANK_001         PG02  PRODUCT0010  ITEM0115    201652  2016    52   \n",
       "\n",
       "      QTY HOLIDAY  HCLUS PROMOTION  PRO_PERCENT  PROMOTION_MAP  HOLIDAY_MAP  \\\n",
       "84   2100       N      4         Y     0.280258              1            0   \n",
       "85     43       N      4         N     0.000000              0            0   \n",
       "86   1700       Y      1         Y     0.308584              1            1   \n",
       "87   1514       Y      1         Y     0.308584              1            1   \n",
       "88   1501       Y      1         Y     0.308584              1            1   \n",
       "89   1491       N      4         Y     0.308584              1            0   \n",
       "90    806       N      4         Y     0.308584              1            0   \n",
       "91   2111       N      4         Y     0.280258              1            0   \n",
       "92   2400       N      4         Y     0.280258              1            0   \n",
       "93   2010       Y      2         Y     0.280258              1            1   \n",
       "94   1900       N      4         Y     0.280258              1            0   \n",
       "95    141       N      4         N     0.000000              0            0   \n",
       "96   1615       Y      0         Y     0.421888              1            1   \n",
       "97   1574       Y      0         Y     0.421888              1            1   \n",
       "98   1800       Y      0         Y     0.421888              1            1   \n",
       "99   2600       Y      0         Y     0.421888              1            1   \n",
       "100  2412       Y      0         Y     0.421888              1            1   \n",
       "101  1955       N      4         Y     0.421888              1            0   \n",
       "102  1800       N      4         Y     0.352361              1            0   \n",
       "103  1173       N      4         Y     0.352361              1            0   \n",
       "104   332       Y      1         Y     0.352361              1            1   \n",
       "\n",
       "      PREDICT_DT  \n",
       "84   1578.333333  \n",
       "85    350.714286  \n",
       "86   1434.600000  \n",
       "87   1434.600000  \n",
       "88   1434.600000  \n",
       "89   1434.600000  \n",
       "90   1434.600000  \n",
       "91   1578.333333  \n",
       "92   1578.333333  \n",
       "93   2620.428571  \n",
       "94   1578.333333  \n",
       "95    350.714286  \n",
       "96   2193.800000  \n",
       "97   2193.800000  \n",
       "98   2193.800000  \n",
       "99   2193.800000  \n",
       "100  2193.800000  \n",
       "101  2193.800000  \n",
       "102  2193.800000  \n",
       "103  2193.800000  \n",
       "104  2193.800000  "
      ]
     },
     "execution_count": 117,
     "metadata": {},
     "output_type": "execute_result"
    }
   ],
   "source": [
    "testDataAll"
   ]
  },
  {
   "cell_type": "markdown",
   "metadata": {},
   "source": [
    "### 6. 데이터 시각화"
   ]
  },
  {
   "cell_type": "code",
   "execution_count": 112,
   "metadata": {},
   "outputs": [
    {
     "data": {
      "text/plain": [
       "[<matplotlib.lines.Line2D at 0x235a2b19700>]"
      ]
     },
     "execution_count": 112,
     "metadata": {},
     "output_type": "execute_result"
    },
    {
     "data": {
      "image/png": "[encoded data removed]",
      "text/plain": [
       "<Figure size 432x288 with 1 Axes>"
      ]
     },
     "metadata": {
      "needs_background": "light"
     },
     "output_type": "display_data"
    }
   ],
   "source": [
    "plt.plot(testDataAll.WEEK, testDataAll.QTY)\n",
    "plt.plot(testDataAll.WEEK, testDataAll.PREDICT_DT)"
   ]
  },
  {
   "cell_type": "markdown",
   "metadata": {},
   "source": [
    "### [참고] 학습된 coeff 활용 미래데이터 예측하기"
   ]
  },
  {
   "cell_type": "code",
   "execution_count": 113,
   "metadata": {},
   "outputs": [
    {
     "data": {
      "text/plain": [
       "['HCLUS', 'PRO_PERCENT', 'PROMOTION_MAP', 'HOLIDAY_MAP']"
      ]
     },
     "execution_count": 113,
     "metadata": {},
     "output_type": "execute_result"
    }
   ],
   "source": [
    "features"
   ]
  },
  {
   "cell_type": "code",
   "execution_count": 114,
   "metadata": {},
   "outputs": [],
   "source": [
    "testHCLUS = 1 # 대휴일이 1 소휴일이 1\n",
    "testPRO_PERCENT = 0.50 #할인율\n",
    "testPROMOTIONMAP = 1\n",
    "testHolidayMap = 1"
   ]
  },
  {
   "cell_type": "code",
   "execution_count": 115,
   "metadata": {},
   "outputs": [],
   "source": [
    "testDf = \\\n",
    "    pd.DataFrame( [[ testHCLUS, testPRO_PERCENT, testPROMOTIONMAP, testHolidayMap]] )"
   ]
  },
  {
   "cell_type": "code",
   "execution_count": 116,
   "metadata": {},
   "outputs": [
    {
     "data": {
      "text/plain": [
       "array([2193.8])"
      ]
     },
     "execution_count": 116,
     "metadata": {},
     "output_type": "execute_result"
    }
   ],
   "source": [
    "modelCoeff.predict(testDf)"
   ]
  }
 ],
 "metadata": {
  "kernelspec": {
   "display_name": "Python 3 (ipykernel)",
   "language": "python",
   "name": "python3"
  },
  "language_info": {
   "codemirror_mode": {
    "name": "ipython",
    "version": 3
   },
   "file_extension": ".py",
   "mimetype": "text/x-python",
   "name": "python",
   "nbconvert_exporter": "python",
   "pygments_lexer": "ipython3",
   "version": "3.9.7"
  }
 },
 "nbformat": 4,
 "nbformat_minor": 4
}
